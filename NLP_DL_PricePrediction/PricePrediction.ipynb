{
 "cells": [
  {
   "cell_type": "code",
   "execution_count": 163,
   "metadata": {},
   "outputs": [],
   "source": [
    "import time\n",
    "import datetime\n",
    "import pandas as pd\n",
    "import numpy as np\n",
    "import matplotlib.pyplot as plt"
   ]
  },
  {
   "cell_type": "code",
   "execution_count": 164,
   "metadata": {},
   "outputs": [],
   "source": [
    "import yfinance as yf"
   ]
  },
  {
   "cell_type": "code",
   "execution_count": 165,
   "metadata": {},
   "outputs": [],
   "source": [
    "ticker = \"RELIANCE.NS\""
   ]
  },
  {
   "cell_type": "code",
   "execution_count": 166,
   "metadata": {},
   "outputs": [],
   "source": [
    "# today = datetime.date.today()\n",
    "# days_until_friday = (4 - today.weekday() + 7) % 7\n",
    "# end_date = today + datetime.timedelta(days=days_until_friday)\n",
    "# end_date_str = end_date.strftime(\"%Y-%m-%d\")\n",
    "\n",
    "# # data = yf.download(ticker, start=\"1996-01-01\", end=end_date_str)\n",
    "\n",
    "# # running weekly"
   ]
  },
  {
   "cell_type": "code",
   "execution_count": 167,
   "metadata": {},
   "outputs": [
    {
     "name": "stderr",
     "output_type": "stream",
     "text": [
      "[*********************100%***********************]  1 of 1 completed\n"
     ]
    }
   ],
   "source": [
    "data = yf.download(ticker, start=\"1996-01-01\", end=\"2024-11-07\")"
   ]
  },
  {
   "cell_type": "code",
   "execution_count": 168,
   "metadata": {},
   "outputs": [
    {
     "name": "stdout",
     "output_type": "stream",
     "text": [
      "Price                        Adj Close        Close         High          Low  \\\n",
      "Ticker                     RELIANCE.NS  RELIANCE.NS  RELIANCE.NS  RELIANCE.NS   \n",
      "Date                                                                            \n",
      "1996-01-01 00:00:00+00:00     3.687494     7.345901     7.358397     7.270925   \n",
      "1996-01-02 00:00:00+00:00     3.658819     7.288776     7.363753     7.235222   \n",
      "1996-01-03 00:00:00+00:00     3.686599     7.344116     7.745775     7.328050   \n",
      "1996-01-04 00:00:00+00:00     3.652546     7.276280     7.297702     7.178097   \n",
      "1996-01-05 00:00:00+00:00     3.627455     7.226296     7.247718     7.163816   \n",
      "...                                ...          ...          ...          ...   \n",
      "2024-10-31 00:00:00+00:00  1332.050049  1332.050049  1343.000000  1326.150024   \n",
      "2024-11-01 00:00:00+00:00  1338.650024  1338.650024  1341.949951  1333.000000   \n",
      "2024-11-04 00:00:00+00:00  1302.150024  1302.150024  1340.000000  1285.099976   \n",
      "2024-11-05 00:00:00+00:00  1305.300049  1305.300049  1309.550049  1286.150024   \n",
      "2024-11-06 00:00:00+00:00  1325.349976  1325.349976  1328.300049  1300.199951   \n",
      "\n",
      "Price                             Open      Volume  \n",
      "Ticker                     RELIANCE.NS RELIANCE.NS  \n",
      "Date                                                \n",
      "1996-01-01 00:00:00+00:00     7.319124   104121369  \n",
      "1996-01-02 00:00:00+00:00     7.328050   168743308  \n",
      "1996-01-03 00:00:00+00:00     7.408381   209323879  \n",
      "1996-01-04 00:00:00+00:00     7.274495   216900264  \n",
      "1996-01-05 00:00:00+00:00     7.247718   166708467  \n",
      "...                                ...         ...  \n",
      "2024-10-31 00:00:00+00:00  1340.000000     9331650  \n",
      "2024-11-01 00:00:00+00:00  1333.050049     2127335  \n",
      "2024-11-04 00:00:00+00:00  1337.849976    19796890  \n",
      "2024-11-05 00:00:00+00:00  1293.000000    16267479  \n",
      "2024-11-06 00:00:00+00:00  1310.000000    21625209  \n",
      "\n",
      "[7245 rows x 6 columns]\n"
     ]
    }
   ],
   "source": [
    "print(data)"
   ]
  },
  {
   "cell_type": "code",
   "execution_count": 169,
   "metadata": {},
   "outputs": [],
   "source": [
    "df = pd.DataFrame(data)"
   ]
  },
  {
   "cell_type": "code",
   "execution_count": 170,
   "metadata": {},
   "outputs": [
    {
     "data": {
      "text/html": [
       "<div>\n",
       "<style scoped>\n",
       "    .dataframe tbody tr th:only-of-type {\n",
       "        vertical-align: middle;\n",
       "    }\n",
       "\n",
       "    .dataframe tbody tr th {\n",
       "        vertical-align: top;\n",
       "    }\n",
       "\n",
       "    .dataframe thead tr th {\n",
       "        text-align: left;\n",
       "    }\n",
       "\n",
       "    .dataframe thead tr:last-of-type th {\n",
       "        text-align: right;\n",
       "    }\n",
       "</style>\n",
       "<table border=\"1\" class=\"dataframe\">\n",
       "  <thead>\n",
       "    <tr>\n",
       "      <th>Price</th>\n",
       "      <th>Adj Close</th>\n",
       "      <th>Close</th>\n",
       "      <th>High</th>\n",
       "      <th>Low</th>\n",
       "      <th>Open</th>\n",
       "      <th>Volume</th>\n",
       "    </tr>\n",
       "    <tr>\n",
       "      <th>Ticker</th>\n",
       "      <th>RELIANCE.NS</th>\n",
       "      <th>RELIANCE.NS</th>\n",
       "      <th>RELIANCE.NS</th>\n",
       "      <th>RELIANCE.NS</th>\n",
       "      <th>RELIANCE.NS</th>\n",
       "      <th>RELIANCE.NS</th>\n",
       "    </tr>\n",
       "    <tr>\n",
       "      <th>Date</th>\n",
       "      <th></th>\n",
       "      <th></th>\n",
       "      <th></th>\n",
       "      <th></th>\n",
       "      <th></th>\n",
       "      <th></th>\n",
       "    </tr>\n",
       "  </thead>\n",
       "  <tbody>\n",
       "    <tr>\n",
       "      <th>1996-01-01 00:00:00+00:00</th>\n",
       "      <td>3.687494</td>\n",
       "      <td>7.345901</td>\n",
       "      <td>7.358397</td>\n",
       "      <td>7.270925</td>\n",
       "      <td>7.319124</td>\n",
       "      <td>104121369</td>\n",
       "    </tr>\n",
       "    <tr>\n",
       "      <th>1996-01-02 00:00:00+00:00</th>\n",
       "      <td>3.658819</td>\n",
       "      <td>7.288776</td>\n",
       "      <td>7.363753</td>\n",
       "      <td>7.235222</td>\n",
       "      <td>7.328050</td>\n",
       "      <td>168743308</td>\n",
       "    </tr>\n",
       "    <tr>\n",
       "      <th>1996-01-03 00:00:00+00:00</th>\n",
       "      <td>3.686599</td>\n",
       "      <td>7.344116</td>\n",
       "      <td>7.745775</td>\n",
       "      <td>7.328050</td>\n",
       "      <td>7.408381</td>\n",
       "      <td>209323879</td>\n",
       "    </tr>\n",
       "    <tr>\n",
       "      <th>1996-01-04 00:00:00+00:00</th>\n",
       "      <td>3.652546</td>\n",
       "      <td>7.276280</td>\n",
       "      <td>7.297702</td>\n",
       "      <td>7.178097</td>\n",
       "      <td>7.274495</td>\n",
       "      <td>216900264</td>\n",
       "    </tr>\n",
       "    <tr>\n",
       "      <th>1996-01-05 00:00:00+00:00</th>\n",
       "      <td>3.627455</td>\n",
       "      <td>7.226296</td>\n",
       "      <td>7.247718</td>\n",
       "      <td>7.163816</td>\n",
       "      <td>7.247718</td>\n",
       "      <td>166708467</td>\n",
       "    </tr>\n",
       "  </tbody>\n",
       "</table>\n",
       "</div>"
      ],
      "text/plain": [
       "Price                       Adj Close       Close        High         Low  \\\n",
       "Ticker                    RELIANCE.NS RELIANCE.NS RELIANCE.NS RELIANCE.NS   \n",
       "Date                                                                        \n",
       "1996-01-01 00:00:00+00:00    3.687494    7.345901    7.358397    7.270925   \n",
       "1996-01-02 00:00:00+00:00    3.658819    7.288776    7.363753    7.235222   \n",
       "1996-01-03 00:00:00+00:00    3.686599    7.344116    7.745775    7.328050   \n",
       "1996-01-04 00:00:00+00:00    3.652546    7.276280    7.297702    7.178097   \n",
       "1996-01-05 00:00:00+00:00    3.627455    7.226296    7.247718    7.163816   \n",
       "\n",
       "Price                            Open      Volume  \n",
       "Ticker                    RELIANCE.NS RELIANCE.NS  \n",
       "Date                                               \n",
       "1996-01-01 00:00:00+00:00    7.319124   104121369  \n",
       "1996-01-02 00:00:00+00:00    7.328050   168743308  \n",
       "1996-01-03 00:00:00+00:00    7.408381   209323879  \n",
       "1996-01-04 00:00:00+00:00    7.274495   216900264  \n",
       "1996-01-05 00:00:00+00:00    7.247718   166708467  "
      ]
     },
     "execution_count": 170,
     "metadata": {},
     "output_type": "execute_result"
    }
   ],
   "source": [
    "df.head()"
   ]
  },
  {
   "cell_type": "code",
   "execution_count": 171,
   "metadata": {},
   "outputs": [
    {
     "data": {
      "text/html": [
       "<div>\n",
       "<style scoped>\n",
       "    .dataframe tbody tr th:only-of-type {\n",
       "        vertical-align: middle;\n",
       "    }\n",
       "\n",
       "    .dataframe tbody tr th {\n",
       "        vertical-align: top;\n",
       "    }\n",
       "\n",
       "    .dataframe thead tr th {\n",
       "        text-align: left;\n",
       "    }\n",
       "\n",
       "    .dataframe thead tr:last-of-type th {\n",
       "        text-align: right;\n",
       "    }\n",
       "</style>\n",
       "<table border=\"1\" class=\"dataframe\">\n",
       "  <thead>\n",
       "    <tr>\n",
       "      <th>Price</th>\n",
       "      <th>Adj Close</th>\n",
       "      <th>Close</th>\n",
       "      <th>High</th>\n",
       "      <th>Low</th>\n",
       "      <th>Open</th>\n",
       "      <th>Volume</th>\n",
       "    </tr>\n",
       "    <tr>\n",
       "      <th>Ticker</th>\n",
       "      <th>RELIANCE.NS</th>\n",
       "      <th>RELIANCE.NS</th>\n",
       "      <th>RELIANCE.NS</th>\n",
       "      <th>RELIANCE.NS</th>\n",
       "      <th>RELIANCE.NS</th>\n",
       "      <th>RELIANCE.NS</th>\n",
       "    </tr>\n",
       "    <tr>\n",
       "      <th>Date</th>\n",
       "      <th></th>\n",
       "      <th></th>\n",
       "      <th></th>\n",
       "      <th></th>\n",
       "      <th></th>\n",
       "      <th></th>\n",
       "    </tr>\n",
       "  </thead>\n",
       "  <tbody>\n",
       "    <tr>\n",
       "      <th>2024-10-31 00:00:00+00:00</th>\n",
       "      <td>1332.050049</td>\n",
       "      <td>1332.050049</td>\n",
       "      <td>1343.000000</td>\n",
       "      <td>1326.150024</td>\n",
       "      <td>1340.000000</td>\n",
       "      <td>9331650</td>\n",
       "    </tr>\n",
       "    <tr>\n",
       "      <th>2024-11-01 00:00:00+00:00</th>\n",
       "      <td>1338.650024</td>\n",
       "      <td>1338.650024</td>\n",
       "      <td>1341.949951</td>\n",
       "      <td>1333.000000</td>\n",
       "      <td>1333.050049</td>\n",
       "      <td>2127335</td>\n",
       "    </tr>\n",
       "    <tr>\n",
       "      <th>2024-11-04 00:00:00+00:00</th>\n",
       "      <td>1302.150024</td>\n",
       "      <td>1302.150024</td>\n",
       "      <td>1340.000000</td>\n",
       "      <td>1285.099976</td>\n",
       "      <td>1337.849976</td>\n",
       "      <td>19796890</td>\n",
       "    </tr>\n",
       "    <tr>\n",
       "      <th>2024-11-05 00:00:00+00:00</th>\n",
       "      <td>1305.300049</td>\n",
       "      <td>1305.300049</td>\n",
       "      <td>1309.550049</td>\n",
       "      <td>1286.150024</td>\n",
       "      <td>1293.000000</td>\n",
       "      <td>16267479</td>\n",
       "    </tr>\n",
       "    <tr>\n",
       "      <th>2024-11-06 00:00:00+00:00</th>\n",
       "      <td>1325.349976</td>\n",
       "      <td>1325.349976</td>\n",
       "      <td>1328.300049</td>\n",
       "      <td>1300.199951</td>\n",
       "      <td>1310.000000</td>\n",
       "      <td>21625209</td>\n",
       "    </tr>\n",
       "  </tbody>\n",
       "</table>\n",
       "</div>"
      ],
      "text/plain": [
       "Price                        Adj Close        Close         High          Low  \\\n",
       "Ticker                     RELIANCE.NS  RELIANCE.NS  RELIANCE.NS  RELIANCE.NS   \n",
       "Date                                                                            \n",
       "2024-10-31 00:00:00+00:00  1332.050049  1332.050049  1343.000000  1326.150024   \n",
       "2024-11-01 00:00:00+00:00  1338.650024  1338.650024  1341.949951  1333.000000   \n",
       "2024-11-04 00:00:00+00:00  1302.150024  1302.150024  1340.000000  1285.099976   \n",
       "2024-11-05 00:00:00+00:00  1305.300049  1305.300049  1309.550049  1286.150024   \n",
       "2024-11-06 00:00:00+00:00  1325.349976  1325.349976  1328.300049  1300.199951   \n",
       "\n",
       "Price                             Open      Volume  \n",
       "Ticker                     RELIANCE.NS RELIANCE.NS  \n",
       "Date                                                \n",
       "2024-10-31 00:00:00+00:00  1340.000000     9331650  \n",
       "2024-11-01 00:00:00+00:00  1333.050049     2127335  \n",
       "2024-11-04 00:00:00+00:00  1337.849976    19796890  \n",
       "2024-11-05 00:00:00+00:00  1293.000000    16267479  \n",
       "2024-11-06 00:00:00+00:00  1310.000000    21625209  "
      ]
     },
     "execution_count": 171,
     "metadata": {},
     "output_type": "execute_result"
    }
   ],
   "source": [
    "df.tail()"
   ]
  },
  {
   "cell_type": "code",
   "execution_count": 172,
   "metadata": {},
   "outputs": [],
   "source": [
    "df.columns = df.columns.get_level_values(0)"
   ]
  },
  {
   "cell_type": "code",
   "execution_count": 173,
   "metadata": {},
   "outputs": [
    {
     "data": {
      "text/html": [
       "<div>\n",
       "<style scoped>\n",
       "    .dataframe tbody tr th:only-of-type {\n",
       "        vertical-align: middle;\n",
       "    }\n",
       "\n",
       "    .dataframe tbody tr th {\n",
       "        vertical-align: top;\n",
       "    }\n",
       "\n",
       "    .dataframe thead th {\n",
       "        text-align: right;\n",
       "    }\n",
       "</style>\n",
       "<table border=\"1\" class=\"dataframe\">\n",
       "  <thead>\n",
       "    <tr style=\"text-align: right;\">\n",
       "      <th>Price</th>\n",
       "      <th>Adj Close</th>\n",
       "      <th>Close</th>\n",
       "      <th>High</th>\n",
       "      <th>Low</th>\n",
       "      <th>Open</th>\n",
       "      <th>Volume</th>\n",
       "    </tr>\n",
       "    <tr>\n",
       "      <th>Date</th>\n",
       "      <th></th>\n",
       "      <th></th>\n",
       "      <th></th>\n",
       "      <th></th>\n",
       "      <th></th>\n",
       "      <th></th>\n",
       "    </tr>\n",
       "  </thead>\n",
       "  <tbody>\n",
       "    <tr>\n",
       "      <th>1996-01-01 00:00:00+00:00</th>\n",
       "      <td>3.687494</td>\n",
       "      <td>7.345901</td>\n",
       "      <td>7.358397</td>\n",
       "      <td>7.270925</td>\n",
       "      <td>7.319124</td>\n",
       "      <td>104121369</td>\n",
       "    </tr>\n",
       "    <tr>\n",
       "      <th>1996-01-02 00:00:00+00:00</th>\n",
       "      <td>3.658819</td>\n",
       "      <td>7.288776</td>\n",
       "      <td>7.363753</td>\n",
       "      <td>7.235222</td>\n",
       "      <td>7.328050</td>\n",
       "      <td>168743308</td>\n",
       "    </tr>\n",
       "    <tr>\n",
       "      <th>1996-01-03 00:00:00+00:00</th>\n",
       "      <td>3.686599</td>\n",
       "      <td>7.344116</td>\n",
       "      <td>7.745775</td>\n",
       "      <td>7.328050</td>\n",
       "      <td>7.408381</td>\n",
       "      <td>209323879</td>\n",
       "    </tr>\n",
       "    <tr>\n",
       "      <th>1996-01-04 00:00:00+00:00</th>\n",
       "      <td>3.652546</td>\n",
       "      <td>7.276280</td>\n",
       "      <td>7.297702</td>\n",
       "      <td>7.178097</td>\n",
       "      <td>7.274495</td>\n",
       "      <td>216900264</td>\n",
       "    </tr>\n",
       "    <tr>\n",
       "      <th>1996-01-05 00:00:00+00:00</th>\n",
       "      <td>3.627455</td>\n",
       "      <td>7.226296</td>\n",
       "      <td>7.247718</td>\n",
       "      <td>7.163816</td>\n",
       "      <td>7.247718</td>\n",
       "      <td>166708467</td>\n",
       "    </tr>\n",
       "    <tr>\n",
       "      <th>...</th>\n",
       "      <td>...</td>\n",
       "      <td>...</td>\n",
       "      <td>...</td>\n",
       "      <td>...</td>\n",
       "      <td>...</td>\n",
       "      <td>...</td>\n",
       "    </tr>\n",
       "    <tr>\n",
       "      <th>2024-10-31 00:00:00+00:00</th>\n",
       "      <td>1332.050049</td>\n",
       "      <td>1332.050049</td>\n",
       "      <td>1343.000000</td>\n",
       "      <td>1326.150024</td>\n",
       "      <td>1340.000000</td>\n",
       "      <td>9331650</td>\n",
       "    </tr>\n",
       "    <tr>\n",
       "      <th>2024-11-01 00:00:00+00:00</th>\n",
       "      <td>1338.650024</td>\n",
       "      <td>1338.650024</td>\n",
       "      <td>1341.949951</td>\n",
       "      <td>1333.000000</td>\n",
       "      <td>1333.050049</td>\n",
       "      <td>2127335</td>\n",
       "    </tr>\n",
       "    <tr>\n",
       "      <th>2024-11-04 00:00:00+00:00</th>\n",
       "      <td>1302.150024</td>\n",
       "      <td>1302.150024</td>\n",
       "      <td>1340.000000</td>\n",
       "      <td>1285.099976</td>\n",
       "      <td>1337.849976</td>\n",
       "      <td>19796890</td>\n",
       "    </tr>\n",
       "    <tr>\n",
       "      <th>2024-11-05 00:00:00+00:00</th>\n",
       "      <td>1305.300049</td>\n",
       "      <td>1305.300049</td>\n",
       "      <td>1309.550049</td>\n",
       "      <td>1286.150024</td>\n",
       "      <td>1293.000000</td>\n",
       "      <td>16267479</td>\n",
       "    </tr>\n",
       "    <tr>\n",
       "      <th>2024-11-06 00:00:00+00:00</th>\n",
       "      <td>1325.349976</td>\n",
       "      <td>1325.349976</td>\n",
       "      <td>1328.300049</td>\n",
       "      <td>1300.199951</td>\n",
       "      <td>1310.000000</td>\n",
       "      <td>21625209</td>\n",
       "    </tr>\n",
       "  </tbody>\n",
       "</table>\n",
       "<p>7245 rows × 6 columns</p>\n",
       "</div>"
      ],
      "text/plain": [
       "Price                        Adj Close        Close         High          Low  \\\n",
       "Date                                                                            \n",
       "1996-01-01 00:00:00+00:00     3.687494     7.345901     7.358397     7.270925   \n",
       "1996-01-02 00:00:00+00:00     3.658819     7.288776     7.363753     7.235222   \n",
       "1996-01-03 00:00:00+00:00     3.686599     7.344116     7.745775     7.328050   \n",
       "1996-01-04 00:00:00+00:00     3.652546     7.276280     7.297702     7.178097   \n",
       "1996-01-05 00:00:00+00:00     3.627455     7.226296     7.247718     7.163816   \n",
       "...                                ...          ...          ...          ...   \n",
       "2024-10-31 00:00:00+00:00  1332.050049  1332.050049  1343.000000  1326.150024   \n",
       "2024-11-01 00:00:00+00:00  1338.650024  1338.650024  1341.949951  1333.000000   \n",
       "2024-11-04 00:00:00+00:00  1302.150024  1302.150024  1340.000000  1285.099976   \n",
       "2024-11-05 00:00:00+00:00  1305.300049  1305.300049  1309.550049  1286.150024   \n",
       "2024-11-06 00:00:00+00:00  1325.349976  1325.349976  1328.300049  1300.199951   \n",
       "\n",
       "Price                             Open     Volume  \n",
       "Date                                               \n",
       "1996-01-01 00:00:00+00:00     7.319124  104121369  \n",
       "1996-01-02 00:00:00+00:00     7.328050  168743308  \n",
       "1996-01-03 00:00:00+00:00     7.408381  209323879  \n",
       "1996-01-04 00:00:00+00:00     7.274495  216900264  \n",
       "1996-01-05 00:00:00+00:00     7.247718  166708467  \n",
       "...                                ...        ...  \n",
       "2024-10-31 00:00:00+00:00  1340.000000    9331650  \n",
       "2024-11-01 00:00:00+00:00  1333.050049    2127335  \n",
       "2024-11-04 00:00:00+00:00  1337.849976   19796890  \n",
       "2024-11-05 00:00:00+00:00  1293.000000   16267479  \n",
       "2024-11-06 00:00:00+00:00  1310.000000   21625209  \n",
       "\n",
       "[7245 rows x 6 columns]"
      ]
     },
     "execution_count": 173,
     "metadata": {},
     "output_type": "execute_result"
    }
   ],
   "source": [
    "df"
   ]
  },
  {
   "cell_type": "code",
   "execution_count": 174,
   "metadata": {},
   "outputs": [
    {
     "data": {
      "text/plain": [
       "(7245, 6)"
      ]
     },
     "execution_count": 174,
     "metadata": {},
     "output_type": "execute_result"
    }
   ],
   "source": [
    "df.shape"
   ]
  },
  {
   "cell_type": "code",
   "execution_count": 175,
   "metadata": {},
   "outputs": [
    {
     "name": "stdout",
     "output_type": "stream",
     "text": [
      "<class 'pandas.core.frame.DataFrame'>\n",
      "DatetimeIndex: 7245 entries, 1996-01-01 00:00:00+00:00 to 2024-11-06 00:00:00+00:00\n",
      "Data columns (total 6 columns):\n",
      " #   Column     Non-Null Count  Dtype  \n",
      "---  ------     --------------  -----  \n",
      " 0   Adj Close  7245 non-null   float64\n",
      " 1   Close      7245 non-null   float64\n",
      " 2   High       7245 non-null   float64\n",
      " 3   Low        7245 non-null   float64\n",
      " 4   Open       7245 non-null   float64\n",
      " 5   Volume     7245 non-null   int64  \n",
      "dtypes: float64(5), int64(1)\n",
      "memory usage: 396.2 KB\n"
     ]
    }
   ],
   "source": [
    "df.info()"
   ]
  },
  {
   "cell_type": "code",
   "execution_count": 176,
   "metadata": {},
   "outputs": [
    {
     "data": {
      "text/plain": [
       "Price\n",
       "Adj Close    0\n",
       "Close        0\n",
       "High         0\n",
       "Low          0\n",
       "Open         0\n",
       "Volume       0\n",
       "dtype: int64"
      ]
     },
     "execution_count": 176,
     "metadata": {},
     "output_type": "execute_result"
    }
   ],
   "source": [
    "df.isnull().sum()"
   ]
  },
  {
   "cell_type": "code",
   "execution_count": 177,
   "metadata": {},
   "outputs": [],
   "source": [
    "df1=df['Close']"
   ]
  },
  {
   "cell_type": "code",
   "execution_count": 178,
   "metadata": {},
   "outputs": [],
   "source": [
    "df1=pd.DataFrame(df1)"
   ]
  },
  {
   "cell_type": "code",
   "execution_count": 179,
   "metadata": {},
   "outputs": [
    {
     "data": {
      "text/html": [
       "<div>\n",
       "<style scoped>\n",
       "    .dataframe tbody tr th:only-of-type {\n",
       "        vertical-align: middle;\n",
       "    }\n",
       "\n",
       "    .dataframe tbody tr th {\n",
       "        vertical-align: top;\n",
       "    }\n",
       "\n",
       "    .dataframe thead th {\n",
       "        text-align: right;\n",
       "    }\n",
       "</style>\n",
       "<table border=\"1\" class=\"dataframe\">\n",
       "  <thead>\n",
       "    <tr style=\"text-align: right;\">\n",
       "      <th></th>\n",
       "      <th>Close</th>\n",
       "    </tr>\n",
       "    <tr>\n",
       "      <th>Date</th>\n",
       "      <th></th>\n",
       "    </tr>\n",
       "  </thead>\n",
       "  <tbody>\n",
       "    <tr>\n",
       "      <th>1996-01-01 00:00:00+00:00</th>\n",
       "      <td>7.345901</td>\n",
       "    </tr>\n",
       "    <tr>\n",
       "      <th>1996-01-02 00:00:00+00:00</th>\n",
       "      <td>7.288776</td>\n",
       "    </tr>\n",
       "    <tr>\n",
       "      <th>1996-01-03 00:00:00+00:00</th>\n",
       "      <td>7.344116</td>\n",
       "    </tr>\n",
       "    <tr>\n",
       "      <th>1996-01-04 00:00:00+00:00</th>\n",
       "      <td>7.276280</td>\n",
       "    </tr>\n",
       "    <tr>\n",
       "      <th>1996-01-05 00:00:00+00:00</th>\n",
       "      <td>7.226296</td>\n",
       "    </tr>\n",
       "    <tr>\n",
       "      <th>...</th>\n",
       "      <td>...</td>\n",
       "    </tr>\n",
       "    <tr>\n",
       "      <th>2024-10-31 00:00:00+00:00</th>\n",
       "      <td>1332.050049</td>\n",
       "    </tr>\n",
       "    <tr>\n",
       "      <th>2024-11-01 00:00:00+00:00</th>\n",
       "      <td>1338.650024</td>\n",
       "    </tr>\n",
       "    <tr>\n",
       "      <th>2024-11-04 00:00:00+00:00</th>\n",
       "      <td>1302.150024</td>\n",
       "    </tr>\n",
       "    <tr>\n",
       "      <th>2024-11-05 00:00:00+00:00</th>\n",
       "      <td>1305.300049</td>\n",
       "    </tr>\n",
       "    <tr>\n",
       "      <th>2024-11-06 00:00:00+00:00</th>\n",
       "      <td>1325.349976</td>\n",
       "    </tr>\n",
       "  </tbody>\n",
       "</table>\n",
       "<p>7245 rows × 1 columns</p>\n",
       "</div>"
      ],
      "text/plain": [
       "                                 Close\n",
       "Date                                  \n",
       "1996-01-01 00:00:00+00:00     7.345901\n",
       "1996-01-02 00:00:00+00:00     7.288776\n",
       "1996-01-03 00:00:00+00:00     7.344116\n",
       "1996-01-04 00:00:00+00:00     7.276280\n",
       "1996-01-05 00:00:00+00:00     7.226296\n",
       "...                                ...\n",
       "2024-10-31 00:00:00+00:00  1332.050049\n",
       "2024-11-01 00:00:00+00:00  1338.650024\n",
       "2024-11-04 00:00:00+00:00  1302.150024\n",
       "2024-11-05 00:00:00+00:00  1305.300049\n",
       "2024-11-06 00:00:00+00:00  1325.349976\n",
       "\n",
       "[7245 rows x 1 columns]"
      ]
     },
     "execution_count": 179,
     "metadata": {},
     "output_type": "execute_result"
    }
   ],
   "source": [
    "df1"
   ]
  },
  {
   "cell_type": "code",
   "execution_count": 180,
   "metadata": {},
   "outputs": [
    {
     "data": {
      "text/plain": [
       "[<matplotlib.lines.Line2D at 0x18723258d40>]"
      ]
     },
     "execution_count": 180,
     "metadata": {},
     "output_type": "execute_result"
    },
    {
     "data": {
      "image/png": "[encoded data removed]",
      "text/plain": [
       "<Figure size 640x480 with 1 Axes>"
      ]
     },
     "metadata": {},
     "output_type": "display_data"
    }
   ],
   "source": [
    "plt.plot(df1.index, df1['Close'])"
   ]
  },
  {
   "cell_type": "code",
   "execution_count": 181,
   "metadata": {},
   "outputs": [],
   "source": [
    "# start_date = '2021-01-01'"
   ]
  },
  {
   "cell_type": "code",
   "execution_count": 182,
   "metadata": {},
   "outputs": [],
   "source": [
    "# df1 = df1[df1.index >= start_date]"
   ]
  },
  {
   "cell_type": "code",
   "execution_count": 183,
   "metadata": {},
   "outputs": [],
   "source": [
    "# df1"
   ]
  },
  {
   "cell_type": "code",
   "execution_count": 184,
   "metadata": {},
   "outputs": [],
   "source": [
    "# plt.plot(df1.index, df1['Close'])"
   ]
  },
  {
   "cell_type": "markdown",
   "metadata": {},
   "source": [
    "# Adding Technical Indicators"
   ]
  },
  {
   "cell_type": "code",
   "execution_count": 185,
   "metadata": {},
   "outputs": [],
   "source": [
    "import pandas_ta as ta"
   ]
  },
  {
   "cell_type": "code",
   "execution_count": 186,
   "metadata": {},
   "outputs": [],
   "source": [
    "df1['SMA_20'] = ta.sma(df1['Close'], length=20)        # provides trend information\n",
    "df1['EMA_20'] = ta.ema(df1['Close'], length=20)        # understand recent momentum \n",
    "df1['RSI'] = ta.rsi(df1['Close'], length=14)           # recognize when the price might be reaching a high or low extreme\n",
    "df1['MACD'] = ta.macd(df1['Close']).iloc[:, 0]         # insight into trend strength and potential changes in trend direction\n",
    "df1['MACD_signal'] = ta.macd(df1['Close']).iloc[:, 1]  # MACD signal line"
   ]
  },
  {
   "cell_type": "code",
   "execution_count": 187,
   "metadata": {},
   "outputs": [
    {
     "data": {
      "text/html": [
       "<div>\n",
       "<style scoped>\n",
       "    .dataframe tbody tr th:only-of-type {\n",
       "        vertical-align: middle;\n",
       "    }\n",
       "\n",
       "    .dataframe tbody tr th {\n",
       "        vertical-align: top;\n",
       "    }\n",
       "\n",
       "    .dataframe thead th {\n",
       "        text-align: right;\n",
       "    }\n",
       "</style>\n",
       "<table border=\"1\" class=\"dataframe\">\n",
       "  <thead>\n",
       "    <tr style=\"text-align: right;\">\n",
       "      <th></th>\n",
       "      <th>Close</th>\n",
       "      <th>SMA_20</th>\n",
       "      <th>EMA_20</th>\n",
       "      <th>RSI</th>\n",
       "      <th>MACD</th>\n",
       "      <th>MACD_signal</th>\n",
       "    </tr>\n",
       "    <tr>\n",
       "      <th>Date</th>\n",
       "      <th></th>\n",
       "      <th></th>\n",
       "      <th></th>\n",
       "      <th></th>\n",
       "      <th></th>\n",
       "      <th></th>\n",
       "    </tr>\n",
       "  </thead>\n",
       "  <tbody>\n",
       "    <tr>\n",
       "      <th>1996-01-01 00:00:00+00:00</th>\n",
       "      <td>7.345901</td>\n",
       "      <td>NaN</td>\n",
       "      <td>NaN</td>\n",
       "      <td>NaN</td>\n",
       "      <td>NaN</td>\n",
       "      <td>NaN</td>\n",
       "    </tr>\n",
       "    <tr>\n",
       "      <th>1996-01-02 00:00:00+00:00</th>\n",
       "      <td>7.288776</td>\n",
       "      <td>NaN</td>\n",
       "      <td>NaN</td>\n",
       "      <td>NaN</td>\n",
       "      <td>NaN</td>\n",
       "      <td>NaN</td>\n",
       "    </tr>\n",
       "    <tr>\n",
       "      <th>1996-01-03 00:00:00+00:00</th>\n",
       "      <td>7.344116</td>\n",
       "      <td>NaN</td>\n",
       "      <td>NaN</td>\n",
       "      <td>NaN</td>\n",
       "      <td>NaN</td>\n",
       "      <td>NaN</td>\n",
       "    </tr>\n",
       "    <tr>\n",
       "      <th>1996-01-04 00:00:00+00:00</th>\n",
       "      <td>7.276280</td>\n",
       "      <td>NaN</td>\n",
       "      <td>NaN</td>\n",
       "      <td>NaN</td>\n",
       "      <td>NaN</td>\n",
       "      <td>NaN</td>\n",
       "    </tr>\n",
       "    <tr>\n",
       "      <th>1996-01-05 00:00:00+00:00</th>\n",
       "      <td>7.226296</td>\n",
       "      <td>NaN</td>\n",
       "      <td>NaN</td>\n",
       "      <td>NaN</td>\n",
       "      <td>NaN</td>\n",
       "      <td>NaN</td>\n",
       "    </tr>\n",
       "    <tr>\n",
       "      <th>1996-01-08 00:00:00+00:00</th>\n",
       "      <td>6.937101</td>\n",
       "      <td>NaN</td>\n",
       "      <td>NaN</td>\n",
       "      <td>NaN</td>\n",
       "      <td>NaN</td>\n",
       "      <td>NaN</td>\n",
       "    </tr>\n",
       "    <tr>\n",
       "      <th>1996-01-09 00:00:00+00:00</th>\n",
       "      <td>6.737164</td>\n",
       "      <td>NaN</td>\n",
       "      <td>NaN</td>\n",
       "      <td>NaN</td>\n",
       "      <td>NaN</td>\n",
       "      <td>NaN</td>\n",
       "    </tr>\n",
       "    <tr>\n",
       "      <th>1996-01-10 00:00:00+00:00</th>\n",
       "      <td>6.564004</td>\n",
       "      <td>NaN</td>\n",
       "      <td>NaN</td>\n",
       "      <td>NaN</td>\n",
       "      <td>NaN</td>\n",
       "      <td>NaN</td>\n",
       "    </tr>\n",
       "    <tr>\n",
       "      <th>1996-01-11 00:00:00+00:00</th>\n",
       "      <td>6.769297</td>\n",
       "      <td>NaN</td>\n",
       "      <td>NaN</td>\n",
       "      <td>NaN</td>\n",
       "      <td>NaN</td>\n",
       "      <td>NaN</td>\n",
       "    </tr>\n",
       "    <tr>\n",
       "      <th>1996-01-12 00:00:00+00:00</th>\n",
       "      <td>6.697891</td>\n",
       "      <td>NaN</td>\n",
       "      <td>NaN</td>\n",
       "      <td>NaN</td>\n",
       "      <td>NaN</td>\n",
       "      <td>NaN</td>\n",
       "    </tr>\n",
       "    <tr>\n",
       "      <th>1996-01-15 00:00:00+00:00</th>\n",
       "      <td>6.628270</td>\n",
       "      <td>NaN</td>\n",
       "      <td>NaN</td>\n",
       "      <td>NaN</td>\n",
       "      <td>NaN</td>\n",
       "      <td>NaN</td>\n",
       "    </tr>\n",
       "    <tr>\n",
       "      <th>1996-01-16 00:00:00+00:00</th>\n",
       "      <td>6.640766</td>\n",
       "      <td>NaN</td>\n",
       "      <td>NaN</td>\n",
       "      <td>NaN</td>\n",
       "      <td>NaN</td>\n",
       "      <td>NaN</td>\n",
       "    </tr>\n",
       "    <tr>\n",
       "      <th>1996-01-17 00:00:00+00:00</th>\n",
       "      <td>6.376563</td>\n",
       "      <td>NaN</td>\n",
       "      <td>NaN</td>\n",
       "      <td>NaN</td>\n",
       "      <td>NaN</td>\n",
       "      <td>NaN</td>\n",
       "    </tr>\n",
       "    <tr>\n",
       "      <th>1996-01-18 00:00:00+00:00</th>\n",
       "      <td>6.199833</td>\n",
       "      <td>NaN</td>\n",
       "      <td>NaN</td>\n",
       "      <td>NaN</td>\n",
       "      <td>NaN</td>\n",
       "      <td>NaN</td>\n",
       "    </tr>\n",
       "    <tr>\n",
       "      <th>1996-01-19 00:00:00+00:00</th>\n",
       "      <td>6.090939</td>\n",
       "      <td>NaN</td>\n",
       "      <td>NaN</td>\n",
       "      <td>13.651710</td>\n",
       "      <td>NaN</td>\n",
       "      <td>NaN</td>\n",
       "    </tr>\n",
       "    <tr>\n",
       "      <th>1996-01-22 00:00:00+00:00</th>\n",
       "      <td>6.194478</td>\n",
       "      <td>NaN</td>\n",
       "      <td>NaN</td>\n",
       "      <td>20.971363</td>\n",
       "      <td>NaN</td>\n",
       "      <td>NaN</td>\n",
       "    </tr>\n",
       "    <tr>\n",
       "      <th>1996-01-23 00:00:00+00:00</th>\n",
       "      <td>5.932061</td>\n",
       "      <td>NaN</td>\n",
       "      <td>NaN</td>\n",
       "      <td>17.030903</td>\n",
       "      <td>NaN</td>\n",
       "      <td>NaN</td>\n",
       "    </tr>\n",
       "    <tr>\n",
       "      <th>1996-01-24 00:00:00+00:00</th>\n",
       "      <td>5.728553</td>\n",
       "      <td>NaN</td>\n",
       "      <td>NaN</td>\n",
       "      <td>14.720821</td>\n",
       "      <td>NaN</td>\n",
       "      <td>NaN</td>\n",
       "    </tr>\n",
       "    <tr>\n",
       "      <th>1996-01-25 00:00:00+00:00</th>\n",
       "      <td>5.487558</td>\n",
       "      <td>NaN</td>\n",
       "      <td>NaN</td>\n",
       "      <td>12.549915</td>\n",
       "      <td>NaN</td>\n",
       "      <td>NaN</td>\n",
       "    </tr>\n",
       "    <tr>\n",
       "      <th>1996-01-26 00:00:00+00:00</th>\n",
       "      <td>5.487558</td>\n",
       "      <td>6.547670</td>\n",
       "      <td>6.547670</td>\n",
       "      <td>12.549915</td>\n",
       "      <td>NaN</td>\n",
       "      <td>NaN</td>\n",
       "    </tr>\n",
       "    <tr>\n",
       "      <th>1996-01-29 00:00:00+00:00</th>\n",
       "      <td>5.919564</td>\n",
       "      <td>6.476353</td>\n",
       "      <td>6.487851</td>\n",
       "      <td>33.070061</td>\n",
       "      <td>NaN</td>\n",
       "      <td>NaN</td>\n",
       "    </tr>\n",
       "    <tr>\n",
       "      <th>1996-01-30 00:00:00+00:00</th>\n",
       "      <td>6.451540</td>\n",
       "      <td>6.434492</td>\n",
       "      <td>6.484392</td>\n",
       "      <td>48.954305</td>\n",
       "      <td>NaN</td>\n",
       "      <td>NaN</td>\n",
       "    </tr>\n",
       "    <tr>\n",
       "      <th>1996-01-31 00:00:00+00:00</th>\n",
       "      <td>6.310513</td>\n",
       "      <td>6.382811</td>\n",
       "      <td>6.467833</td>\n",
       "      <td>45.847886</td>\n",
       "      <td>NaN</td>\n",
       "      <td>NaN</td>\n",
       "    </tr>\n",
       "    <tr>\n",
       "      <th>1996-02-01 00:00:00+00:00</th>\n",
       "      <td>6.564004</td>\n",
       "      <td>6.347198</td>\n",
       "      <td>6.476992</td>\n",
       "      <td>51.771878</td>\n",
       "      <td>NaN</td>\n",
       "      <td>NaN</td>\n",
       "    </tr>\n",
       "    <tr>\n",
       "      <th>1996-02-02 00:00:00+00:00</th>\n",
       "      <td>7.276280</td>\n",
       "      <td>6.349697</td>\n",
       "      <td>6.553114</td>\n",
       "      <td>63.766362</td>\n",
       "      <td>NaN</td>\n",
       "      <td>NaN</td>\n",
       "    </tr>\n",
       "    <tr>\n",
       "      <th>1996-02-05 00:00:00+00:00</th>\n",
       "      <td>7.881447</td>\n",
       "      <td>6.396914</td>\n",
       "      <td>6.679622</td>\n",
       "      <td>70.483164</td>\n",
       "      <td>0.030219</td>\n",
       "      <td>NaN</td>\n",
       "    </tr>\n",
       "    <tr>\n",
       "      <th>1996-02-06 00:00:00+00:00</th>\n",
       "      <td>7.220940</td>\n",
       "      <td>6.421103</td>\n",
       "      <td>6.731176</td>\n",
       "      <td>57.873176</td>\n",
       "      <td>0.075850</td>\n",
       "      <td>NaN</td>\n",
       "    </tr>\n",
       "    <tr>\n",
       "      <th>1996-02-07 00:00:00+00:00</th>\n",
       "      <td>7.354827</td>\n",
       "      <td>6.460644</td>\n",
       "      <td>6.790572</td>\n",
       "      <td>59.456591</td>\n",
       "      <td>0.121417</td>\n",
       "      <td>NaN</td>\n",
       "    </tr>\n",
       "    <tr>\n",
       "      <th>1996-02-08 00:00:00+00:00</th>\n",
       "      <td>7.997482</td>\n",
       "      <td>6.522053</td>\n",
       "      <td>6.905515</td>\n",
       "      <td>66.052423</td>\n",
       "      <td>0.207000</td>\n",
       "      <td>NaN</td>\n",
       "    </tr>\n",
       "    <tr>\n",
       "      <th>1996-02-09 00:00:00+00:00</th>\n",
       "      <td>8.461621</td>\n",
       "      <td>6.610240</td>\n",
       "      <td>7.053716</td>\n",
       "      <td>69.865446</td>\n",
       "      <td>0.308718</td>\n",
       "      <td>NaN</td>\n",
       "    </tr>\n",
       "    <tr>\n",
       "      <th>1996-02-12 00:00:00+00:00</th>\n",
       "      <td>7.931431</td>\n",
       "      <td>6.675398</td>\n",
       "      <td>7.137308</td>\n",
       "      <td>61.383759</td>\n",
       "      <td>0.342599</td>\n",
       "      <td>NaN</td>\n",
       "    </tr>\n",
       "    <tr>\n",
       "      <th>1996-02-13 00:00:00+00:00</th>\n",
       "      <td>8.408067</td>\n",
       "      <td>6.763763</td>\n",
       "      <td>7.258333</td>\n",
       "      <td>65.445096</td>\n",
       "      <td>0.403263</td>\n",
       "      <td>NaN</td>\n",
       "    </tr>\n",
       "    <tr>\n",
       "      <th>1996-02-14 00:00:00+00:00</th>\n",
       "      <td>8.413422</td>\n",
       "      <td>6.865606</td>\n",
       "      <td>7.368341</td>\n",
       "      <td>65.489010</td>\n",
       "      <td>0.446622</td>\n",
       "      <td>NaN</td>\n",
       "    </tr>\n",
       "    <tr>\n",
       "      <th>1996-02-15 00:00:00+00:00</th>\n",
       "      <td>8.279536</td>\n",
       "      <td>6.969591</td>\n",
       "      <td>7.455122</td>\n",
       "      <td>63.322211</td>\n",
       "      <td>0.464823</td>\n",
       "      <td>0.198100</td>\n",
       "    </tr>\n",
       "    <tr>\n",
       "      <th>1996-02-16 00:00:00+00:00</th>\n",
       "      <td>8.133153</td>\n",
       "      <td>7.071702</td>\n",
       "      <td>7.519696</td>\n",
       "      <td>60.947825</td>\n",
       "      <td>0.462109</td>\n",
       "      <td>0.156309</td>\n",
       "    </tr>\n",
       "    <tr>\n",
       "      <th>1996-02-19 00:00:00+00:00</th>\n",
       "      <td>8.215270</td>\n",
       "      <td>7.172741</td>\n",
       "      <td>7.585941</td>\n",
       "      <td>61.812871</td>\n",
       "      <td>0.461267</td>\n",
       "      <td>0.124373</td>\n",
       "    </tr>\n",
       "    <tr>\n",
       "      <th>1996-02-20 00:00:00+00:00</th>\n",
       "      <td>7.781478</td>\n",
       "      <td>7.265212</td>\n",
       "      <td>7.604564</td>\n",
       "      <td>54.895184</td>\n",
       "      <td>0.420746</td>\n",
       "      <td>0.067082</td>\n",
       "    </tr>\n",
       "    <tr>\n",
       "      <th>1996-02-21 00:00:00+00:00</th>\n",
       "      <td>7.781478</td>\n",
       "      <td>7.367858</td>\n",
       "      <td>7.621413</td>\n",
       "      <td>54.895184</td>\n",
       "      <td>0.384204</td>\n",
       "      <td>0.024432</td>\n",
       "    </tr>\n",
       "    <tr>\n",
       "      <th>1996-02-22 00:00:00+00:00</th>\n",
       "      <td>8.192063</td>\n",
       "      <td>7.503084</td>\n",
       "      <td>7.675760</td>\n",
       "      <td>59.830041</td>\n",
       "      <td>0.383950</td>\n",
       "      <td>0.019342</td>\n",
       "    </tr>\n",
       "    <tr>\n",
       "      <th>1996-02-23 00:00:00+00:00</th>\n",
       "      <td>8.104591</td>\n",
       "      <td>7.633935</td>\n",
       "      <td>7.716601</td>\n",
       "      <td>58.364986</td>\n",
       "      <td>0.372397</td>\n",
       "      <td>0.006231</td>\n",
       "    </tr>\n",
       "    <tr>\n",
       "      <th>1996-02-26 00:00:00+00:00</th>\n",
       "      <td>8.122442</td>\n",
       "      <td>7.744079</td>\n",
       "      <td>7.755253</td>\n",
       "      <td>58.587849</td>\n",
       "      <td>0.360525</td>\n",
       "      <td>-0.004512</td>\n",
       "    </tr>\n",
       "    <tr>\n",
       "      <th>1996-02-27 00:00:00+00:00</th>\n",
       "      <td>8.029614</td>\n",
       "      <td>7.822983</td>\n",
       "      <td>7.781383</td>\n",
       "      <td>56.882699</td>\n",
       "      <td>0.339711</td>\n",
       "      <td>-0.020261</td>\n",
       "    </tr>\n",
       "    <tr>\n",
       "      <th>1996-02-28 00:00:00+00:00</th>\n",
       "      <td>8.068888</td>\n",
       "      <td>7.910902</td>\n",
       "      <td>7.808764</td>\n",
       "      <td>57.446971</td>\n",
       "      <td>0.322665</td>\n",
       "      <td>-0.029846</td>\n",
       "    </tr>\n",
       "    <tr>\n",
       "      <th>1996-02-29 00:00:00+00:00</th>\n",
       "      <td>7.563690</td>\n",
       "      <td>7.960886</td>\n",
       "      <td>7.785424</td>\n",
       "      <td>48.630493</td>\n",
       "      <td>0.265332</td>\n",
       "      <td>-0.069743</td>\n",
       "    </tr>\n",
       "    <tr>\n",
       "      <th>1996-03-01 00:00:00+00:00</th>\n",
       "      <td>7.606533</td>\n",
       "      <td>7.977399</td>\n",
       "      <td>7.768386</td>\n",
       "      <td>49.340545</td>\n",
       "      <td>0.220807</td>\n",
       "      <td>-0.091415</td>\n",
       "    </tr>\n",
       "    <tr>\n",
       "      <th>1996-03-04 00:00:00+00:00</th>\n",
       "      <td>7.527987</td>\n",
       "      <td>7.959726</td>\n",
       "      <td>7.745491</td>\n",
       "      <td>48.029776</td>\n",
       "      <td>0.177140</td>\n",
       "      <td>-0.108065</td>\n",
       "    </tr>\n",
       "    <tr>\n",
       "      <th>1996-03-05 00:00:00+00:00</th>\n",
       "      <td>7.527987</td>\n",
       "      <td>7.975078</td>\n",
       "      <td>7.724777</td>\n",
       "      <td>48.029776</td>\n",
       "      <td>0.140910</td>\n",
       "      <td>-0.115436</td>\n",
       "    </tr>\n",
       "    <tr>\n",
       "      <th>1996-03-06 00:00:00+00:00</th>\n",
       "      <td>7.795759</td>\n",
       "      <td>7.997125</td>\n",
       "      <td>7.731537</td>\n",
       "      <td>52.969600</td>\n",
       "      <td>0.132279</td>\n",
       "      <td>-0.099253</td>\n",
       "    </tr>\n",
       "    <tr>\n",
       "      <th>1996-03-07 00:00:00+00:00</th>\n",
       "      <td>7.865380</td>\n",
       "      <td>7.990520</td>\n",
       "      <td>7.744284</td>\n",
       "      <td>54.188829</td>\n",
       "      <td>0.129564</td>\n",
       "      <td>-0.081575</td>\n",
       "    </tr>\n",
       "    <tr>\n",
       "      <th>1996-03-08 00:00:00+00:00</th>\n",
       "      <td>7.824322</td>\n",
       "      <td>7.958655</td>\n",
       "      <td>7.751906</td>\n",
       "      <td>53.311092</td>\n",
       "      <td>0.122685</td>\n",
       "      <td>-0.070764</td>\n",
       "    </tr>\n",
       "  </tbody>\n",
       "</table>\n",
       "</div>"
      ],
      "text/plain": [
       "                              Close    SMA_20    EMA_20        RSI      MACD  \\\n",
       "Date                                                                           \n",
       "1996-01-01 00:00:00+00:00  7.345901       NaN       NaN        NaN       NaN   \n",
       "1996-01-02 00:00:00+00:00  7.288776       NaN       NaN        NaN       NaN   \n",
       "1996-01-03 00:00:00+00:00  7.344116       NaN       NaN        NaN       NaN   \n",
       "1996-01-04 00:00:00+00:00  7.276280       NaN       NaN        NaN       NaN   \n",
       "1996-01-05 00:00:00+00:00  7.226296       NaN       NaN        NaN       NaN   \n",
       "1996-01-08 00:00:00+00:00  6.937101       NaN       NaN        NaN       NaN   \n",
       "1996-01-09 00:00:00+00:00  6.737164       NaN       NaN        NaN       NaN   \n",
       "1996-01-10 00:00:00+00:00  6.564004       NaN       NaN        NaN       NaN   \n",
       "1996-01-11 00:00:00+00:00  6.769297       NaN       NaN        NaN       NaN   \n",
       "1996-01-12 00:00:00+00:00  6.697891       NaN       NaN        NaN       NaN   \n",
       "1996-01-15 00:00:00+00:00  6.628270       NaN       NaN        NaN       NaN   \n",
       "1996-01-16 00:00:00+00:00  6.640766       NaN       NaN        NaN       NaN   \n",
       "1996-01-17 00:00:00+00:00  6.376563       NaN       NaN        NaN       NaN   \n",
       "1996-01-18 00:00:00+00:00  6.199833       NaN       NaN        NaN       NaN   \n",
       "1996-01-19 00:00:00+00:00  6.090939       NaN       NaN  13.651710       NaN   \n",
       "1996-01-22 00:00:00+00:00  6.194478       NaN       NaN  20.971363       NaN   \n",
       "1996-01-23 00:00:00+00:00  5.932061       NaN       NaN  17.030903       NaN   \n",
       "1996-01-24 00:00:00+00:00  5.728553       NaN       NaN  14.720821       NaN   \n",
       "1996-01-25 00:00:00+00:00  5.487558       NaN       NaN  12.549915       NaN   \n",
       "1996-01-26 00:00:00+00:00  5.487558  6.547670  6.547670  12.549915       NaN   \n",
       "1996-01-29 00:00:00+00:00  5.919564  6.476353  6.487851  33.070061       NaN   \n",
       "1996-01-30 00:00:00+00:00  6.451540  6.434492  6.484392  48.954305       NaN   \n",
       "1996-01-31 00:00:00+00:00  6.310513  6.382811  6.467833  45.847886       NaN   \n",
       "1996-02-01 00:00:00+00:00  6.564004  6.347198  6.476992  51.771878       NaN   \n",
       "1996-02-02 00:00:00+00:00  7.276280  6.349697  6.553114  63.766362       NaN   \n",
       "1996-02-05 00:00:00+00:00  7.881447  6.396914  6.679622  70.483164  0.030219   \n",
       "1996-02-06 00:00:00+00:00  7.220940  6.421103  6.731176  57.873176  0.075850   \n",
       "1996-02-07 00:00:00+00:00  7.354827  6.460644  6.790572  59.456591  0.121417   \n",
       "1996-02-08 00:00:00+00:00  7.997482  6.522053  6.905515  66.052423  0.207000   \n",
       "1996-02-09 00:00:00+00:00  8.461621  6.610240  7.053716  69.865446  0.308718   \n",
       "1996-02-12 00:00:00+00:00  7.931431  6.675398  7.137308  61.383759  0.342599   \n",
       "1996-02-13 00:00:00+00:00  8.408067  6.763763  7.258333  65.445096  0.403263   \n",
       "1996-02-14 00:00:00+00:00  8.413422  6.865606  7.368341  65.489010  0.446622   \n",
       "1996-02-15 00:00:00+00:00  8.279536  6.969591  7.455122  63.322211  0.464823   \n",
       "1996-02-16 00:00:00+00:00  8.133153  7.071702  7.519696  60.947825  0.462109   \n",
       "1996-02-19 00:00:00+00:00  8.215270  7.172741  7.585941  61.812871  0.461267   \n",
       "1996-02-20 00:00:00+00:00  7.781478  7.265212  7.604564  54.895184  0.420746   \n",
       "1996-02-21 00:00:00+00:00  7.781478  7.367858  7.621413  54.895184  0.384204   \n",
       "1996-02-22 00:00:00+00:00  8.192063  7.503084  7.675760  59.830041  0.383950   \n",
       "1996-02-23 00:00:00+00:00  8.104591  7.633935  7.716601  58.364986  0.372397   \n",
       "1996-02-26 00:00:00+00:00  8.122442  7.744079  7.755253  58.587849  0.360525   \n",
       "1996-02-27 00:00:00+00:00  8.029614  7.822983  7.781383  56.882699  0.339711   \n",
       "1996-02-28 00:00:00+00:00  8.068888  7.910902  7.808764  57.446971  0.322665   \n",
       "1996-02-29 00:00:00+00:00  7.563690  7.960886  7.785424  48.630493  0.265332   \n",
       "1996-03-01 00:00:00+00:00  7.606533  7.977399  7.768386  49.340545  0.220807   \n",
       "1996-03-04 00:00:00+00:00  7.527987  7.959726  7.745491  48.029776  0.177140   \n",
       "1996-03-05 00:00:00+00:00  7.527987  7.975078  7.724777  48.029776  0.140910   \n",
       "1996-03-06 00:00:00+00:00  7.795759  7.997125  7.731537  52.969600  0.132279   \n",
       "1996-03-07 00:00:00+00:00  7.865380  7.990520  7.744284  54.188829  0.129564   \n",
       "1996-03-08 00:00:00+00:00  7.824322  7.958655  7.751906  53.311092  0.122685   \n",
       "\n",
       "                           MACD_signal  \n",
       "Date                                    \n",
       "1996-01-01 00:00:00+00:00          NaN  \n",
       "1996-01-02 00:00:00+00:00          NaN  \n",
       "1996-01-03 00:00:00+00:00          NaN  \n",
       "1996-01-04 00:00:00+00:00          NaN  \n",
       "1996-01-05 00:00:00+00:00          NaN  \n",
       "1996-01-08 00:00:00+00:00          NaN  \n",
       "1996-01-09 00:00:00+00:00          NaN  \n",
       "1996-01-10 00:00:00+00:00          NaN  \n",
       "1996-01-11 00:00:00+00:00          NaN  \n",
       "1996-01-12 00:00:00+00:00          NaN  \n",
       "1996-01-15 00:00:00+00:00          NaN  \n",
       "1996-01-16 00:00:00+00:00          NaN  \n",
       "1996-01-17 00:00:00+00:00          NaN  \n",
       "1996-01-18 00:00:00+00:00          NaN  \n",
       "1996-01-19 00:00:00+00:00          NaN  \n",
       "1996-01-22 00:00:00+00:00          NaN  \n",
       "1996-01-23 00:00:00+00:00          NaN  \n",
       "1996-01-24 00:00:00+00:00          NaN  \n",
       "1996-01-25 00:00:00+00:00          NaN  \n",
       "1996-01-26 00:00:00+00:00          NaN  \n",
       "1996-01-29 00:00:00+00:00          NaN  \n",
       "1996-01-30 00:00:00+00:00          NaN  \n",
       "1996-01-31 00:00:00+00:00          NaN  \n",
       "1996-02-01 00:00:00+00:00          NaN  \n",
       "1996-02-02 00:00:00+00:00          NaN  \n",
       "1996-02-05 00:00:00+00:00          NaN  \n",
       "1996-02-06 00:00:00+00:00          NaN  \n",
       "1996-02-07 00:00:00+00:00          NaN  \n",
       "1996-02-08 00:00:00+00:00          NaN  \n",
       "1996-02-09 00:00:00+00:00          NaN  \n",
       "1996-02-12 00:00:00+00:00          NaN  \n",
       "1996-02-13 00:00:00+00:00          NaN  \n",
       "1996-02-14 00:00:00+00:00          NaN  \n",
       "1996-02-15 00:00:00+00:00     0.198100  \n",
       "1996-02-16 00:00:00+00:00     0.156309  \n",
       "1996-02-19 00:00:00+00:00     0.124373  \n",
       "1996-02-20 00:00:00+00:00     0.067082  \n",
       "1996-02-21 00:00:00+00:00     0.024432  \n",
       "1996-02-22 00:00:00+00:00     0.019342  \n",
       "1996-02-23 00:00:00+00:00     0.006231  \n",
       "1996-02-26 00:00:00+00:00    -0.004512  \n",
       "1996-02-27 00:00:00+00:00    -0.020261  \n",
       "1996-02-28 00:00:00+00:00    -0.029846  \n",
       "1996-02-29 00:00:00+00:00    -0.069743  \n",
       "1996-03-01 00:00:00+00:00    -0.091415  \n",
       "1996-03-04 00:00:00+00:00    -0.108065  \n",
       "1996-03-05 00:00:00+00:00    -0.115436  \n",
       "1996-03-06 00:00:00+00:00    -0.099253  \n",
       "1996-03-07 00:00:00+00:00    -0.081575  \n",
       "1996-03-08 00:00:00+00:00    -0.070764  "
      ]
     },
     "execution_count": 187,
     "metadata": {},
     "output_type": "execute_result"
    }
   ],
   "source": [
    "df1.head(50)"
   ]
  },
  {
   "cell_type": "code",
   "execution_count": 188,
   "metadata": {},
   "outputs": [],
   "source": [
    "df1.dropna(inplace=True)"
   ]
  },
  {
   "cell_type": "code",
   "execution_count": 189,
   "metadata": {},
   "outputs": [
    {
     "data": {
      "text/html": [
       "<div>\n",
       "<style scoped>\n",
       "    .dataframe tbody tr th:only-of-type {\n",
       "        vertical-align: middle;\n",
       "    }\n",
       "\n",
       "    .dataframe tbody tr th {\n",
       "        vertical-align: top;\n",
       "    }\n",
       "\n",
       "    .dataframe thead th {\n",
       "        text-align: right;\n",
       "    }\n",
       "</style>\n",
       "<table border=\"1\" class=\"dataframe\">\n",
       "  <thead>\n",
       "    <tr style=\"text-align: right;\">\n",
       "      <th></th>\n",
       "      <th>Close</th>\n",
       "      <th>SMA_20</th>\n",
       "      <th>EMA_20</th>\n",
       "      <th>RSI</th>\n",
       "      <th>MACD</th>\n",
       "      <th>MACD_signal</th>\n",
       "    </tr>\n",
       "    <tr>\n",
       "      <th>Date</th>\n",
       "      <th></th>\n",
       "      <th></th>\n",
       "      <th></th>\n",
       "      <th></th>\n",
       "      <th></th>\n",
       "      <th></th>\n",
       "    </tr>\n",
       "  </thead>\n",
       "  <tbody>\n",
       "    <tr>\n",
       "      <th>1996-02-15 00:00:00+00:00</th>\n",
       "      <td>8.279536</td>\n",
       "      <td>6.969591</td>\n",
       "      <td>7.455122</td>\n",
       "      <td>63.322211</td>\n",
       "      <td>0.464823</td>\n",
       "      <td>0.198100</td>\n",
       "    </tr>\n",
       "    <tr>\n",
       "      <th>1996-02-16 00:00:00+00:00</th>\n",
       "      <td>8.133153</td>\n",
       "      <td>7.071702</td>\n",
       "      <td>7.519696</td>\n",
       "      <td>60.947825</td>\n",
       "      <td>0.462109</td>\n",
       "      <td>0.156309</td>\n",
       "    </tr>\n",
       "    <tr>\n",
       "      <th>1996-02-19 00:00:00+00:00</th>\n",
       "      <td>8.215270</td>\n",
       "      <td>7.172741</td>\n",
       "      <td>7.585941</td>\n",
       "      <td>61.812871</td>\n",
       "      <td>0.461267</td>\n",
       "      <td>0.124373</td>\n",
       "    </tr>\n",
       "    <tr>\n",
       "      <th>1996-02-20 00:00:00+00:00</th>\n",
       "      <td>7.781478</td>\n",
       "      <td>7.265212</td>\n",
       "      <td>7.604564</td>\n",
       "      <td>54.895184</td>\n",
       "      <td>0.420746</td>\n",
       "      <td>0.067082</td>\n",
       "    </tr>\n",
       "    <tr>\n",
       "      <th>1996-02-21 00:00:00+00:00</th>\n",
       "      <td>7.781478</td>\n",
       "      <td>7.367858</td>\n",
       "      <td>7.621413</td>\n",
       "      <td>54.895184</td>\n",
       "      <td>0.384204</td>\n",
       "      <td>0.024432</td>\n",
       "    </tr>\n",
       "  </tbody>\n",
       "</table>\n",
       "</div>"
      ],
      "text/plain": [
       "                              Close    SMA_20    EMA_20        RSI      MACD  \\\n",
       "Date                                                                           \n",
       "1996-02-15 00:00:00+00:00  8.279536  6.969591  7.455122  63.322211  0.464823   \n",
       "1996-02-16 00:00:00+00:00  8.133153  7.071702  7.519696  60.947825  0.462109   \n",
       "1996-02-19 00:00:00+00:00  8.215270  7.172741  7.585941  61.812871  0.461267   \n",
       "1996-02-20 00:00:00+00:00  7.781478  7.265212  7.604564  54.895184  0.420746   \n",
       "1996-02-21 00:00:00+00:00  7.781478  7.367858  7.621413  54.895184  0.384204   \n",
       "\n",
       "                           MACD_signal  \n",
       "Date                                    \n",
       "1996-02-15 00:00:00+00:00     0.198100  \n",
       "1996-02-16 00:00:00+00:00     0.156309  \n",
       "1996-02-19 00:00:00+00:00     0.124373  \n",
       "1996-02-20 00:00:00+00:00     0.067082  \n",
       "1996-02-21 00:00:00+00:00     0.024432  "
      ]
     },
     "execution_count": 189,
     "metadata": {},
     "output_type": "execute_result"
    }
   ],
   "source": [
    "df1.head()"
   ]
  },
  {
   "cell_type": "code",
   "execution_count": 190,
   "metadata": {},
   "outputs": [
    {
     "data": {
      "text/plain": [
       "(7212, 6)"
      ]
     },
     "execution_count": 190,
     "metadata": {},
     "output_type": "execute_result"
    }
   ],
   "source": [
    "df1.shape"
   ]
  },
  {
   "cell_type": "markdown",
   "metadata": {},
   "source": [
    "# Scaling"
   ]
  },
  {
   "cell_type": "code",
   "execution_count": 191,
   "metadata": {},
   "outputs": [],
   "source": [
    "from sklearn.preprocessing import MinMaxScaler"
   ]
  },
  {
   "cell_type": "code",
   "execution_count": 192,
   "metadata": {},
   "outputs": [],
   "source": [
    "scaler_close = MinMaxScaler(feature_range=(0, 1))\n",
    "scaler_indicators = MinMaxScaler(feature_range=(-1, 1))"
   ]
  },
  {
   "cell_type": "code",
   "execution_count": 193,
   "metadata": {},
   "outputs": [],
   "source": [
    "scaled_close = scaler_close.fit_transform(df1[['Close']])\n",
    "scaled_indicators = scaler_indicators.fit_transform(df1[['SMA_20', 'EMA_20', 'RSI', 'MACD', 'MACD_signal']])"
   ]
  },
  {
   "cell_type": "code",
   "execution_count": 194,
   "metadata": {},
   "outputs": [],
   "source": [
    "scaled_data = np.hstack((scaled_close, scaled_indicators))"
   ]
  },
  {
   "cell_type": "code",
   "execution_count": 195,
   "metadata": {},
   "outputs": [
    {
     "data": {
      "text/plain": [
       "(7212, 6)"
      ]
     },
     "execution_count": 195,
     "metadata": {},
     "output_type": "execute_result"
    }
   ],
   "source": [
    "scaled_data.shape"
   ]
  },
  {
   "cell_type": "code",
   "execution_count": 196,
   "metadata": {},
   "outputs": [],
   "source": [
    "import joblib"
   ]
  },
  {
   "cell_type": "code",
   "execution_count": 197,
   "metadata": {},
   "outputs": [
    {
     "data": {
      "text/plain": [
       "['Scale_closingPrice.pkl']"
      ]
     },
     "execution_count": 197,
     "metadata": {},
     "output_type": "execute_result"
    }
   ],
   "source": [
    "joblib.dump(scaler_close, 'Scale_closingPrice.pkl')"
   ]
  },
  {
   "cell_type": "code",
   "execution_count": 198,
   "metadata": {},
   "outputs": [
    {
     "data": {
      "text/plain": [
       "['Scale_Indicator.pkl']"
      ]
     },
     "execution_count": 198,
     "metadata": {},
     "output_type": "execute_result"
    }
   ],
   "source": [
    "joblib.dump(scaler_indicators, 'Scale_Indicator.pkl')"
   ]
  },
  {
   "cell_type": "markdown",
   "metadata": {},
   "source": [
    "# Creating windows of previosu days"
   ]
  },
  {
   "cell_type": "code",
   "execution_count": null,
   "metadata": {},
   "outputs": [],
   "source": [
    "window_size = 30\n",
    "\n",
    "# Prepare the time series data\n",
    "X = []\n",
    "y = []\n",
    "for i in range(window_size, len(scaled_data)):\n",
    "    X.append(scaled_data[i - window_size:i])  # previous 'window_size' days data as features\n",
    "    y.append(scaled_data[i, 0])  \n",
    "             # next day's 'Close' price as target\n",
    "\n",
    "X, y = np.array(X), np.array(y)\n"
   ]
  },
  {
   "cell_type": "code",
   "execution_count": 200,
   "metadata": {},
   "outputs": [
    {
     "data": {
      "text/plain": [
       "(7182, 30, 6)"
      ]
     },
     "execution_count": 200,
     "metadata": {},
     "output_type": "execute_result"
    }
   ],
   "source": [
    "X.shape"
   ]
  },
  {
   "cell_type": "code",
   "execution_count": 201,
   "metadata": {},
   "outputs": [
    {
     "data": {
      "text/plain": [
       "array([8.85397019e-04, 8.22713486e-04, 8.66367807e-04, ...,\n",
       "       8.12675599e-01, 8.14650751e-01, 8.27222602e-01])"
      ]
     },
     "execution_count": 201,
     "metadata": {},
     "output_type": "execute_result"
    }
   ],
   "source": [
    "y"
   ]
  },
  {
   "cell_type": "code",
   "execution_count": 202,
   "metadata": {},
   "outputs": [
    {
     "data": {
      "text/plain": [
       "(7182, 30, 6)"
      ]
     },
     "execution_count": 202,
     "metadata": {},
     "output_type": "execute_result"
    }
   ],
   "source": [
    "X.shape"
   ]
  },
  {
   "cell_type": "code",
   "execution_count": 203,
   "metadata": {},
   "outputs": [
    {
     "data": {
      "text/plain": [
       "(7182,)"
      ]
     },
     "execution_count": 203,
     "metadata": {},
     "output_type": "execute_result"
    }
   ],
   "source": [
    "y.shape"
   ]
  },
  {
   "cell_type": "markdown",
   "metadata": {},
   "source": [
    "# Splitting data"
   ]
  },
  {
   "cell_type": "code",
   "execution_count": 204,
   "metadata": {},
   "outputs": [],
   "source": [
    "split_ratio = 0.8  \n",
    "split_index = int(len(X) * split_ratio)"
   ]
  },
  {
   "cell_type": "code",
   "execution_count": 205,
   "metadata": {},
   "outputs": [],
   "source": [
    "X_train = X[:split_index]    # used this cause order of data is important\n",
    "y_train = y[:split_index]\n",
    "X_test= X[split_index:]\n",
    "y_test = y[split_index:]\n"
   ]
  },
  {
   "cell_type": "code",
   "execution_count": 206,
   "metadata": {},
   "outputs": [
    {
     "data": {
      "text/plain": [
       "(5745, 30, 6)"
      ]
     },
     "execution_count": 206,
     "metadata": {},
     "output_type": "execute_result"
    }
   ],
   "source": [
    "X_train.shape"
   ]
  },
  {
   "cell_type": "code",
   "execution_count": 207,
   "metadata": {},
   "outputs": [
    {
     "data": {
      "text/plain": [
       "(5745,)"
      ]
     },
     "execution_count": 207,
     "metadata": {},
     "output_type": "execute_result"
    }
   ],
   "source": [
    "y_train.shape"
   ]
  },
  {
   "cell_type": "code",
   "execution_count": 208,
   "metadata": {},
   "outputs": [
    {
     "data": {
      "text/plain": [
       "(1437, 30, 6)"
      ]
     },
     "execution_count": 208,
     "metadata": {},
     "output_type": "execute_result"
    }
   ],
   "source": [
    "X_test.shape"
   ]
  },
  {
   "cell_type": "code",
   "execution_count": 209,
   "metadata": {},
   "outputs": [
    {
     "data": {
      "text/plain": [
       "(1437,)"
      ]
     },
     "execution_count": 209,
     "metadata": {},
     "output_type": "execute_result"
    }
   ],
   "source": [
    "y_test.shape"
   ]
  },
  {
   "cell_type": "markdown",
   "metadata": {},
   "source": [
    "# LSTM model 1"
   ]
  },
  {
   "cell_type": "code",
   "execution_count": 210,
   "metadata": {},
   "outputs": [],
   "source": [
    "import tensorflow as tf\n",
    "from tensorflow.keras.models import Sequential\n",
    "from tensorflow.keras.layers import LSTM, Dense, Dropout, BatchNormalization\n",
    "from keras.optimizers import Adam"
   ]
  },
  {
   "cell_type": "code",
   "execution_count": 211,
   "metadata": {},
   "outputs": [],
   "source": [
    "# model = Sequential()\n",
    "# model.add(LSTM(units=50, return_sequences=True, input_shape=(X.shape[1], X.shape[2])))\n",
    "# model.add(BatchNormalization())\n",
    "# model.add(Dropout(0.2))\n",
    "# # model.add(LSTM(units=50, return_sequences=True))\n",
    "# # model.add(BatchNormalization())\n",
    "# # model.add(Dropout(0.2))\n",
    "# model.add(LSTM(units=50, return_sequences=False))\n",
    "# model.add(BatchNormalization())\n",
    "# model.add(Dropout(0.2))\n",
    "# model.add(Dense(units=1))\n"
   ]
  },
  {
   "cell_type": "code",
   "execution_count": 212,
   "metadata": {},
   "outputs": [],
   "source": [
    "# from keras.callbacks import EarlyStopping"
   ]
  },
  {
   "cell_type": "code",
   "execution_count": 213,
   "metadata": {},
   "outputs": [],
   "source": [
    "# early_stopping = EarlyStopping(monitor='val_loss', patience=10, restore_best_weights=True)"
   ]
  },
  {
   "cell_type": "code",
   "execution_count": 214,
   "metadata": {},
   "outputs": [],
   "source": [
    "# best_lr = None\n",
    "# best_val_loss = 100\n",
    "# best_epoch=0\n",
    "# learning_rates = [0.1, 0.01, 0.001, 0.0001]\n",
    "# for lr in learning_rates:\n",
    "#     optimizer = Adam(learning_rate=lr)\n",
    "#     model.compile(optimizer=optimizer, loss='mean_squared_error',metrics=['mean_absolute_error'])\n",
    "#     history = model.fit(X, y, epochs=100, batch_size=32,verbose=0,callbacks=[early_stopping])\n",
    "#     val_loss=min(history.history['val_loss'])\n",
    "#     epoch_at_best_val_loss = np.argmin(history.history['val_loss']) + 1\n",
    "#     if val_loss < best_val_loss:\n",
    "#         best_val_loss = val_loss\n",
    "#         best_lr = lr\n",
    "#         best_epoch = epoch_at_best_val_loss\n",
    "\n",
    "# print(f\"\\nBest learning rate: {best_lr} with validation loss: {best_val_loss:.4f} at epoch: {best_epoch}\")"
   ]
  },
  {
   "cell_type": "code",
   "execution_count": 215,
   "metadata": {},
   "outputs": [],
   "source": [
    "# # learning_rate = best_lr\n",
    "# optimizer = Adam(learning_rate=0.001)"
   ]
  },
  {
   "cell_type": "code",
   "execution_count": 216,
   "metadata": {},
   "outputs": [],
   "source": [
    "# model.compile(optimizer=optimizer, loss='mean_squared_error',metrics=['mean_absolute_error'])"
   ]
  },
  {
   "cell_type": "code",
   "execution_count": 217,
   "metadata": {},
   "outputs": [],
   "source": [
    "#history = model.fit(X, y, validation_split=0.2, epochs=best_epoch, batch_size=32,verbose=1,callbacks=[early_stopping])"
   ]
  },
  {
   "cell_type": "code",
   "execution_count": 218,
   "metadata": {},
   "outputs": [],
   "source": [
    "# model.fit(X_train, y_train, epochs=100, batch_size=32,verbose=1)"
   ]
  },
  {
   "cell_type": "code",
   "execution_count": 219,
   "metadata": {},
   "outputs": [],
   "source": [
    "# train_predictions = model.predict(X_train).flatten()\n",
    "# train_predictions.shape\n"
   ]
  },
  {
   "cell_type": "code",
   "execution_count": 220,
   "metadata": {},
   "outputs": [],
   "source": [
    "# y.shape"
   ]
  },
  {
   "cell_type": "code",
   "execution_count": 221,
   "metadata": {},
   "outputs": [],
   "source": [
    "# x_axis = np.arange(len(y_train))"
   ]
  },
  {
   "cell_type": "code",
   "execution_count": 222,
   "metadata": {},
   "outputs": [],
   "source": [
    "# plt.plot(x_axis, train_predictions)\n",
    "# plt.plot(x_axis, y_train)\n",
    "# plt.legend(['Training Predictions', 'Training Observations'])"
   ]
  },
  {
   "cell_type": "code",
   "execution_count": 223,
   "metadata": {},
   "outputs": [],
   "source": [
    "#model.save('lstm_model1(better).h5')"
   ]
  },
  {
   "cell_type": "code",
   "execution_count": 224,
   "metadata": {},
   "outputs": [],
   "source": [
    "#model.save('lstm_model1(better).keras')"
   ]
  },
  {
   "cell_type": "code",
   "execution_count": 225,
   "metadata": {},
   "outputs": [],
   "source": [
    "# test_predictions = model.predict(X_test).flatten()\n",
    "# test_predictions.shape"
   ]
  },
  {
   "cell_type": "code",
   "execution_count": 226,
   "metadata": {},
   "outputs": [],
   "source": [
    "# x_axis1 = np.arange(len(y_test))"
   ]
  },
  {
   "cell_type": "code",
   "execution_count": 227,
   "metadata": {},
   "outputs": [],
   "source": [
    "# plt.plot(x_axis1, test_predictions)\n",
    "# plt.plot(x_axis1, y_test)\n",
    "# plt.legend(['Testing Predictions', 'Testing Observations'])"
   ]
  },
  {
   "cell_type": "markdown",
   "metadata": {},
   "source": [
    "# LSTM Model2"
   ]
  },
  {
   "cell_type": "code",
   "execution_count": 228,
   "metadata": {},
   "outputs": [],
   "source": [
    "from tensorflow.keras import layers"
   ]
  },
  {
   "cell_type": "code",
   "execution_count": 229,
   "metadata": {},
   "outputs": [],
   "source": [
    "model1 = Sequential([layers.Input((X.shape[1], X.shape[2])),\n",
    "                    layers.LSTM(64),\n",
    "                    layers.Dense(32, activation='relu'),\n",
    "                    layers.Dense(32, activation='relu'),\n",
    "                    layers.Dense(1)])"
   ]
  },
  {
   "cell_type": "code",
   "execution_count": 230,
   "metadata": {},
   "outputs": [],
   "source": [
    "model1.compile(loss='mse', \n",
    "              optimizer=Adam(learning_rate=0.001),\n",
    "              metrics=['mean_absolute_error'])"
   ]
  },
  {
   "cell_type": "code",
   "execution_count": 231,
   "metadata": {},
   "outputs": [
    {
     "name": "stdout",
     "output_type": "stream",
     "text": [
      "Epoch 1/100\n",
      "\u001b[1m225/225\u001b[0m \u001b[32m━━━━━━━━━━━━━━━━━━━━\u001b[0m\u001b[37m\u001b[0m \u001b[1m3s\u001b[0m 5ms/step - loss: 0.0047 - mean_absolute_error: 0.0307\n",
      "Epoch 2/100\n",
      "\u001b[1m225/225\u001b[0m \u001b[32m━━━━━━━━━━━━━━━━━━━━\u001b[0m\u001b[37m\u001b[0m \u001b[1m1s\u001b[0m 4ms/step - loss: 7.6495e-05 - mean_absolute_error: 0.0053\n",
      "Epoch 3/100\n",
      "\u001b[1m225/225\u001b[0m \u001b[32m━━━━━━━━━━━━━━━━━━━━\u001b[0m\u001b[37m\u001b[0m \u001b[1m1s\u001b[0m 5ms/step - loss: 6.7773e-05 - mean_absolute_error: 0.0051\n",
      "Epoch 4/100\n",
      "\u001b[1m225/225\u001b[0m \u001b[32m━━━━━━━━━━━━━━━━━━━━\u001b[0m\u001b[37m\u001b[0m \u001b[1m1s\u001b[0m 5ms/step - loss: 6.0780e-05 - mean_absolute_error: 0.0048\n",
      "Epoch 5/100\n",
      "\u001b[1m225/225\u001b[0m \u001b[32m━━━━━━━━━━━━━━━━━━━━\u001b[0m\u001b[37m\u001b[0m \u001b[1m1s\u001b[0m 5ms/step - loss: 6.2814e-05 - mean_absolute_error: 0.0053\n",
      "Epoch 6/100\n",
      "\u001b[1m225/225\u001b[0m \u001b[32m━━━━━━━━━━━━━━━━━━━━\u001b[0m\u001b[37m\u001b[0m \u001b[1m1s\u001b[0m 5ms/step - loss: 5.6432e-05 - mean_absolute_error: 0.0047\n",
      "Epoch 7/100\n",
      "\u001b[1m225/225\u001b[0m \u001b[32m━━━━━━━━━━━━━━━━━━━━\u001b[0m\u001b[37m\u001b[0m \u001b[1m1s\u001b[0m 5ms/step - loss: 6.1648e-05 - mean_absolute_error: 0.0051\n",
      "Epoch 8/100\n",
      "\u001b[1m225/225\u001b[0m \u001b[32m━━━━━━━━━━━━━━━━━━━━\u001b[0m\u001b[37m\u001b[0m \u001b[1m1s\u001b[0m 5ms/step - loss: 5.6033e-05 - mean_absolute_error: 0.0047\n",
      "Epoch 9/100\n",
      "\u001b[1m225/225\u001b[0m \u001b[32m━━━━━━━━━━━━━━━━━━━━\u001b[0m\u001b[37m\u001b[0m \u001b[1m1s\u001b[0m 5ms/step - loss: 5.1722e-05 - mean_absolute_error: 0.0045\n",
      "Epoch 10/100\n",
      "\u001b[1m225/225\u001b[0m \u001b[32m━━━━━━━━━━━━━━━━━━━━\u001b[0m\u001b[37m\u001b[0m \u001b[1m1s\u001b[0m 5ms/step - loss: 6.8235e-05 - mean_absolute_error: 0.0054\n",
      "Epoch 11/100\n",
      "\u001b[1m225/225\u001b[0m \u001b[32m━━━━━━━━━━━━━━━━━━━━\u001b[0m\u001b[37m\u001b[0m \u001b[1m1s\u001b[0m 5ms/step - loss: 5.9733e-05 - mean_absolute_error: 0.0048\n",
      "Epoch 12/100\n",
      "\u001b[1m225/225\u001b[0m \u001b[32m━━━━━━━━━━━━━━━━━━━━\u001b[0m\u001b[37m\u001b[0m \u001b[1m1s\u001b[0m 5ms/step - loss: 7.4568e-05 - mean_absolute_error: 0.0053\n",
      "Epoch 13/100\n",
      "\u001b[1m225/225\u001b[0m \u001b[32m━━━━━━━━━━━━━━━━━━━━\u001b[0m\u001b[37m\u001b[0m \u001b[1m1s\u001b[0m 5ms/step - loss: 5.7637e-05 - mean_absolute_error: 0.0045\n",
      "Epoch 14/100\n",
      "\u001b[1m225/225\u001b[0m \u001b[32m━━━━━━━━━━━━━━━━━━━━\u001b[0m\u001b[37m\u001b[0m \u001b[1m1s\u001b[0m 5ms/step - loss: 4.8888e-05 - mean_absolute_error: 0.0044\n",
      "Epoch 15/100\n",
      "\u001b[1m225/225\u001b[0m \u001b[32m━━━━━━━━━━━━━━━━━━━━\u001b[0m\u001b[37m\u001b[0m \u001b[1m1s\u001b[0m 5ms/step - loss: 4.5664e-05 - mean_absolute_error: 0.0042\n",
      "Epoch 16/100\n",
      "\u001b[1m225/225\u001b[0m \u001b[32m━━━━━━━━━━━━━━━━━━━━\u001b[0m\u001b[37m\u001b[0m \u001b[1m1s\u001b[0m 4ms/step - loss: 5.6217e-05 - mean_absolute_error: 0.0045\n",
      "Epoch 17/100\n",
      "\u001b[1m225/225\u001b[0m \u001b[32m━━━━━━━━━━━━━━━━━━━━\u001b[0m\u001b[37m\u001b[0m \u001b[1m1s\u001b[0m 5ms/step - loss: 4.6232e-05 - mean_absolute_error: 0.0043\n",
      "Epoch 18/100\n",
      "\u001b[1m225/225\u001b[0m \u001b[32m━━━━━━━━━━━━━━━━━━━━\u001b[0m\u001b[37m\u001b[0m \u001b[1m1s\u001b[0m 4ms/step - loss: 4.8446e-05 - mean_absolute_error: 0.0044\n",
      "Epoch 19/100\n",
      "\u001b[1m225/225\u001b[0m \u001b[32m━━━━━━━━━━━━━━━━━━━━\u001b[0m\u001b[37m\u001b[0m \u001b[1m1s\u001b[0m 4ms/step - loss: 4.8675e-05 - mean_absolute_error: 0.0043\n",
      "Epoch 20/100\n",
      "\u001b[1m225/225\u001b[0m \u001b[32m━━━━━━━━━━━━━━━━━━━━\u001b[0m\u001b[37m\u001b[0m \u001b[1m1s\u001b[0m 4ms/step - loss: 5.1885e-05 - mean_absolute_error: 0.0044\n",
      "Epoch 21/100\n",
      "\u001b[1m225/225\u001b[0m \u001b[32m━━━━━━━━━━━━━━━━━━━━\u001b[0m\u001b[37m\u001b[0m \u001b[1m1s\u001b[0m 5ms/step - loss: 4.3516e-05 - mean_absolute_error: 0.0040\n",
      "Epoch 22/100\n",
      "\u001b[1m225/225\u001b[0m \u001b[32m━━━━━━━━━━━━━━━━━━━━\u001b[0m\u001b[37m\u001b[0m \u001b[1m1s\u001b[0m 4ms/step - loss: 4.7043e-05 - mean_absolute_error: 0.0044\n",
      "Epoch 23/100\n",
      "\u001b[1m225/225\u001b[0m \u001b[32m━━━━━━━━━━━━━━━━━━━━\u001b[0m\u001b[37m\u001b[0m \u001b[1m1s\u001b[0m 4ms/step - loss: 4.8370e-05 - mean_absolute_error: 0.0044\n",
      "Epoch 24/100\n",
      "\u001b[1m225/225\u001b[0m \u001b[32m━━━━━━━━━━━━━━━━━━━━\u001b[0m\u001b[37m\u001b[0m \u001b[1m1s\u001b[0m 4ms/step - loss: 4.9115e-05 - mean_absolute_error: 0.0042\n",
      "Epoch 25/100\n",
      "\u001b[1m225/225\u001b[0m \u001b[32m━━━━━━━━━━━━━━━━━━━━\u001b[0m\u001b[37m\u001b[0m \u001b[1m1s\u001b[0m 4ms/step - loss: 4.6036e-05 - mean_absolute_error: 0.0043\n",
      "Epoch 26/100\n",
      "\u001b[1m225/225\u001b[0m \u001b[32m━━━━━━━━━━━━━━━━━━━━\u001b[0m\u001b[37m\u001b[0m \u001b[1m1s\u001b[0m 4ms/step - loss: 5.0412e-05 - mean_absolute_error: 0.0046\n",
      "Epoch 27/100\n",
      "\u001b[1m225/225\u001b[0m \u001b[32m━━━━━━━━━━━━━━━━━━━━\u001b[0m\u001b[37m\u001b[0m \u001b[1m1s\u001b[0m 4ms/step - loss: 4.5524e-05 - mean_absolute_error: 0.0042\n",
      "Epoch 28/100\n",
      "\u001b[1m225/225\u001b[0m \u001b[32m━━━━━━━━━━━━━━━━━━━━\u001b[0m\u001b[37m\u001b[0m \u001b[1m1s\u001b[0m 4ms/step - loss: 5.1181e-05 - mean_absolute_error: 0.0043\n",
      "Epoch 29/100\n",
      "\u001b[1m225/225\u001b[0m \u001b[32m━━━━━━━━━━━━━━━━━━━━\u001b[0m\u001b[37m\u001b[0m \u001b[1m1s\u001b[0m 4ms/step - loss: 4.0621e-05 - mean_absolute_error: 0.0038\n",
      "Epoch 30/100\n",
      "\u001b[1m225/225\u001b[0m \u001b[32m━━━━━━━━━━━━━━━━━━━━\u001b[0m\u001b[37m\u001b[0m \u001b[1m1s\u001b[0m 4ms/step - loss: 5.1514e-05 - mean_absolute_error: 0.0044\n",
      "Epoch 31/100\n",
      "\u001b[1m225/225\u001b[0m \u001b[32m━━━━━━━━━━━━━━━━━━━━\u001b[0m\u001b[37m\u001b[0m \u001b[1m1s\u001b[0m 4ms/step - loss: 4.7717e-05 - mean_absolute_error: 0.0043\n",
      "Epoch 32/100\n",
      "\u001b[1m225/225\u001b[0m \u001b[32m━━━━━━━━━━━━━━━━━━━━\u001b[0m\u001b[37m\u001b[0m \u001b[1m1s\u001b[0m 4ms/step - loss: 4.3372e-05 - mean_absolute_error: 0.0041\n",
      "Epoch 33/100\n",
      "\u001b[1m225/225\u001b[0m \u001b[32m━━━━━━━━━━━━━━━━━━━━\u001b[0m\u001b[37m\u001b[0m \u001b[1m1s\u001b[0m 4ms/step - loss: 4.8891e-05 - mean_absolute_error: 0.0042\n",
      "Epoch 34/100\n",
      "\u001b[1m225/225\u001b[0m \u001b[32m━━━━━━━━━━━━━━━━━━━━\u001b[0m\u001b[37m\u001b[0m \u001b[1m1s\u001b[0m 4ms/step - loss: 5.4278e-05 - mean_absolute_error: 0.0044\n",
      "Epoch 35/100\n",
      "\u001b[1m225/225\u001b[0m \u001b[32m━━━━━━━━━━━━━━━━━━━━\u001b[0m\u001b[37m\u001b[0m \u001b[1m1s\u001b[0m 4ms/step - loss: 3.9509e-05 - mean_absolute_error: 0.0037\n",
      "Epoch 36/100\n",
      "\u001b[1m225/225\u001b[0m \u001b[32m━━━━━━━━━━━━━━━━━━━━\u001b[0m\u001b[37m\u001b[0m \u001b[1m1s\u001b[0m 4ms/step - loss: 4.4077e-05 - mean_absolute_error: 0.0041\n",
      "Epoch 37/100\n",
      "\u001b[1m225/225\u001b[0m \u001b[32m━━━━━━━━━━━━━━━━━━━━\u001b[0m\u001b[37m\u001b[0m \u001b[1m1s\u001b[0m 4ms/step - loss: 5.4989e-05 - mean_absolute_error: 0.0043\n",
      "Epoch 38/100\n",
      "\u001b[1m225/225\u001b[0m \u001b[32m━━━━━━━━━━━━━━━━━━━━\u001b[0m\u001b[37m\u001b[0m \u001b[1m1s\u001b[0m 4ms/step - loss: 4.0632e-05 - mean_absolute_error: 0.0039\n",
      "Epoch 39/100\n",
      "\u001b[1m225/225\u001b[0m \u001b[32m━━━━━━━━━━━━━━━━━━━━\u001b[0m\u001b[37m\u001b[0m \u001b[1m1s\u001b[0m 4ms/step - loss: 4.3262e-05 - mean_absolute_error: 0.0037\n",
      "Epoch 40/100\n",
      "\u001b[1m225/225\u001b[0m \u001b[32m━━━━━━━━━━━━━━━━━━━━\u001b[0m\u001b[37m\u001b[0m \u001b[1m1s\u001b[0m 4ms/step - loss: 3.8497e-05 - mean_absolute_error: 0.0039\n",
      "Epoch 41/100\n",
      "\u001b[1m225/225\u001b[0m \u001b[32m━━━━━━━━━━━━━━━━━━━━\u001b[0m\u001b[37m\u001b[0m \u001b[1m1s\u001b[0m 4ms/step - loss: 4.5574e-05 - mean_absolute_error: 0.0041\n",
      "Epoch 42/100\n",
      "\u001b[1m225/225\u001b[0m \u001b[32m━━━━━━━━━━━━━━━━━━━━\u001b[0m\u001b[37m\u001b[0m \u001b[1m1s\u001b[0m 4ms/step - loss: 3.5506e-05 - mean_absolute_error: 0.0037\n",
      "Epoch 43/100\n",
      "\u001b[1m225/225\u001b[0m \u001b[32m━━━━━━━━━━━━━━━━━━━━\u001b[0m\u001b[37m\u001b[0m \u001b[1m1s\u001b[0m 4ms/step - loss: 4.6634e-05 - mean_absolute_error: 0.0040\n",
      "Epoch 44/100\n",
      "\u001b[1m225/225\u001b[0m \u001b[32m━━━━━━━━━━━━━━━━━━━━\u001b[0m\u001b[37m\u001b[0m \u001b[1m1s\u001b[0m 4ms/step - loss: 4.0234e-05 - mean_absolute_error: 0.0039\n",
      "Epoch 45/100\n",
      "\u001b[1m225/225\u001b[0m \u001b[32m━━━━━━━━━━━━━━━━━━━━\u001b[0m\u001b[37m\u001b[0m \u001b[1m1s\u001b[0m 4ms/step - loss: 3.9192e-05 - mean_absolute_error: 0.0038\n",
      "Epoch 46/100\n",
      "\u001b[1m225/225\u001b[0m \u001b[32m━━━━━━━━━━━━━━━━━━━━\u001b[0m\u001b[37m\u001b[0m \u001b[1m1s\u001b[0m 4ms/step - loss: 3.7719e-05 - mean_absolute_error: 0.0037\n",
      "Epoch 47/100\n",
      "\u001b[1m225/225\u001b[0m \u001b[32m━━━━━━━━━━━━━━━━━━━━\u001b[0m\u001b[37m\u001b[0m \u001b[1m1s\u001b[0m 4ms/step - loss: 8.8943e-05 - mean_absolute_error: 0.0056\n",
      "Epoch 48/100\n",
      "\u001b[1m225/225\u001b[0m \u001b[32m━━━━━━━━━━━━━━━━━━━━\u001b[0m\u001b[37m\u001b[0m \u001b[1m1s\u001b[0m 4ms/step - loss: 3.9770e-05 - mean_absolute_error: 0.0040\n",
      "Epoch 49/100\n",
      "\u001b[1m225/225\u001b[0m \u001b[32m━━━━━━━━━━━━━━━━━━━━\u001b[0m\u001b[37m\u001b[0m \u001b[1m1s\u001b[0m 4ms/step - loss: 3.7939e-05 - mean_absolute_error: 0.0036\n",
      "Epoch 50/100\n",
      "\u001b[1m225/225\u001b[0m \u001b[32m━━━━━━━━━━━━━━━━━━━━\u001b[0m\u001b[37m\u001b[0m \u001b[1m1s\u001b[0m 5ms/step - loss: 4.4530e-05 - mean_absolute_error: 0.0039\n",
      "Epoch 51/100\n",
      "\u001b[1m225/225\u001b[0m \u001b[32m━━━━━━━━━━━━━━━━━━━━\u001b[0m\u001b[37m\u001b[0m \u001b[1m1s\u001b[0m 4ms/step - loss: 3.7542e-05 - mean_absolute_error: 0.0035\n",
      "Epoch 52/100\n",
      "\u001b[1m225/225\u001b[0m \u001b[32m━━━━━━━━━━━━━━━━━━━━\u001b[0m\u001b[37m\u001b[0m \u001b[1m1s\u001b[0m 4ms/step - loss: 3.8701e-05 - mean_absolute_error: 0.0037\n",
      "Epoch 53/100\n",
      "\u001b[1m225/225\u001b[0m \u001b[32m━━━━━━━━━━━━━━━━━━━━\u001b[0m\u001b[37m\u001b[0m \u001b[1m1s\u001b[0m 4ms/step - loss: 4.2401e-05 - mean_absolute_error: 0.0041\n",
      "Epoch 54/100\n",
      "\u001b[1m225/225\u001b[0m \u001b[32m━━━━━━━━━━━━━━━━━━━━\u001b[0m\u001b[37m\u001b[0m \u001b[1m1s\u001b[0m 4ms/step - loss: 5.4045e-05 - mean_absolute_error: 0.0047\n",
      "Epoch 55/100\n",
      "\u001b[1m225/225\u001b[0m \u001b[32m━━━━━━━━━━━━━━━━━━━━\u001b[0m\u001b[37m\u001b[0m \u001b[1m1s\u001b[0m 5ms/step - loss: 4.4420e-05 - mean_absolute_error: 0.0040\n",
      "Epoch 56/100\n",
      "\u001b[1m225/225\u001b[0m \u001b[32m━━━━━━━━━━━━━━━━━━━━\u001b[0m\u001b[37m\u001b[0m \u001b[1m1s\u001b[0m 4ms/step - loss: 3.6048e-05 - mean_absolute_error: 0.0034\n",
      "Epoch 57/100\n",
      "\u001b[1m225/225\u001b[0m \u001b[32m━━━━━━━━━━━━━━━━━━━━\u001b[0m\u001b[37m\u001b[0m \u001b[1m1s\u001b[0m 5ms/step - loss: 4.4163e-05 - mean_absolute_error: 0.0039\n",
      "Epoch 58/100\n",
      "\u001b[1m225/225\u001b[0m \u001b[32m━━━━━━━━━━━━━━━━━━━━\u001b[0m\u001b[37m\u001b[0m \u001b[1m1s\u001b[0m 4ms/step - loss: 3.7540e-05 - mean_absolute_error: 0.0034\n",
      "Epoch 59/100\n",
      "\u001b[1m225/225\u001b[0m \u001b[32m━━━━━━━━━━━━━━━━━━━━\u001b[0m\u001b[37m\u001b[0m \u001b[1m1s\u001b[0m 4ms/step - loss: 4.8631e-05 - mean_absolute_error: 0.0041\n",
      "Epoch 60/100\n",
      "\u001b[1m225/225\u001b[0m \u001b[32m━━━━━━━━━━━━━━━━━━━━\u001b[0m\u001b[37m\u001b[0m \u001b[1m1s\u001b[0m 4ms/step - loss: 3.9046e-05 - mean_absolute_error: 0.0037\n",
      "Epoch 61/100\n",
      "\u001b[1m225/225\u001b[0m \u001b[32m━━━━━━━━━━━━━━━━━━━━\u001b[0m\u001b[37m\u001b[0m \u001b[1m1s\u001b[0m 4ms/step - loss: 4.5370e-05 - mean_absolute_error: 0.0041\n",
      "Epoch 62/100\n",
      "\u001b[1m225/225\u001b[0m \u001b[32m━━━━━━━━━━━━━━━━━━━━\u001b[0m\u001b[37m\u001b[0m \u001b[1m1s\u001b[0m 4ms/step - loss: 4.7589e-05 - mean_absolute_error: 0.0043\n",
      "Epoch 63/100\n",
      "\u001b[1m225/225\u001b[0m \u001b[32m━━━━━━━━━━━━━━━━━━━━\u001b[0m\u001b[37m\u001b[0m \u001b[1m1s\u001b[0m 4ms/step - loss: 3.7840e-05 - mean_absolute_error: 0.0038\n",
      "Epoch 64/100\n",
      "\u001b[1m225/225\u001b[0m \u001b[32m━━━━━━━━━━━━━━━━━━━━\u001b[0m\u001b[37m\u001b[0m \u001b[1m1s\u001b[0m 4ms/step - loss: 4.2136e-05 - mean_absolute_error: 0.0041\n",
      "Epoch 65/100\n",
      "\u001b[1m225/225\u001b[0m \u001b[32m━━━━━━━━━━━━━━━━━━━━\u001b[0m\u001b[37m\u001b[0m \u001b[1m1s\u001b[0m 4ms/step - loss: 4.3130e-05 - mean_absolute_error: 0.0041\n",
      "Epoch 66/100\n",
      "\u001b[1m225/225\u001b[0m \u001b[32m━━━━━━━━━━━━━━━━━━━━\u001b[0m\u001b[37m\u001b[0m \u001b[1m1s\u001b[0m 4ms/step - loss: 4.3355e-05 - mean_absolute_error: 0.0037\n",
      "Epoch 67/100\n",
      "\u001b[1m225/225\u001b[0m \u001b[32m━━━━━━━━━━━━━━━━━━━━\u001b[0m\u001b[37m\u001b[0m \u001b[1m1s\u001b[0m 4ms/step - loss: 4.4747e-05 - mean_absolute_error: 0.0038\n",
      "Epoch 68/100\n",
      "\u001b[1m225/225\u001b[0m \u001b[32m━━━━━━━━━━━━━━━━━━━━\u001b[0m\u001b[37m\u001b[0m \u001b[1m1s\u001b[0m 4ms/step - loss: 3.8651e-05 - mean_absolute_error: 0.0038\n",
      "Epoch 69/100\n",
      "\u001b[1m225/225\u001b[0m \u001b[32m━━━━━━━━━━━━━━━━━━━━\u001b[0m\u001b[37m\u001b[0m \u001b[1m1s\u001b[0m 4ms/step - loss: 3.9372e-05 - mean_absolute_error: 0.0039\n",
      "Epoch 70/100\n",
      "\u001b[1m225/225\u001b[0m \u001b[32m━━━━━━━━━━━━━━━━━━━━\u001b[0m\u001b[37m\u001b[0m \u001b[1m1s\u001b[0m 5ms/step - loss: 4.3809e-05 - mean_absolute_error: 0.0038\n",
      "Epoch 71/100\n",
      "\u001b[1m225/225\u001b[0m \u001b[32m━━━━━━━━━━━━━━━━━━━━\u001b[0m\u001b[37m\u001b[0m \u001b[1m1s\u001b[0m 4ms/step - loss: 4.0739e-05 - mean_absolute_error: 0.0041\n",
      "Epoch 72/100\n",
      "\u001b[1m225/225\u001b[0m \u001b[32m━━━━━━━━━━━━━━━━━━━━\u001b[0m\u001b[37m\u001b[0m \u001b[1m1s\u001b[0m 4ms/step - loss: 3.8051e-05 - mean_absolute_error: 0.0036\n",
      "Epoch 73/100\n",
      "\u001b[1m225/225\u001b[0m \u001b[32m━━━━━━━━━━━━━━━━━━━━\u001b[0m\u001b[37m\u001b[0m \u001b[1m1s\u001b[0m 4ms/step - loss: 3.7282e-05 - mean_absolute_error: 0.0036\n",
      "Epoch 74/100\n",
      "\u001b[1m225/225\u001b[0m \u001b[32m━━━━━━━━━━━━━━━━━━━━\u001b[0m\u001b[37m\u001b[0m \u001b[1m1s\u001b[0m 4ms/step - loss: 3.6887e-05 - mean_absolute_error: 0.0036\n",
      "Epoch 75/100\n",
      "\u001b[1m225/225\u001b[0m \u001b[32m━━━━━━━━━━━━━━━━━━━━\u001b[0m\u001b[37m\u001b[0m \u001b[1m1s\u001b[0m 5ms/step - loss: 4.3128e-05 - mean_absolute_error: 0.0037\n",
      "Epoch 76/100\n",
      "\u001b[1m225/225\u001b[0m \u001b[32m━━━━━━━━━━━━━━━━━━━━\u001b[0m\u001b[37m\u001b[0m \u001b[1m1s\u001b[0m 4ms/step - loss: 3.2575e-05 - mean_absolute_error: 0.0034\n",
      "Epoch 77/100\n",
      "\u001b[1m225/225\u001b[0m \u001b[32m━━━━━━━━━━━━━━━━━━━━\u001b[0m\u001b[37m\u001b[0m \u001b[1m1s\u001b[0m 5ms/step - loss: 4.2085e-05 - mean_absolute_error: 0.0038\n",
      "Epoch 78/100\n",
      "\u001b[1m225/225\u001b[0m \u001b[32m━━━━━━━━━━━━━━━━━━━━\u001b[0m\u001b[37m\u001b[0m \u001b[1m1s\u001b[0m 4ms/step - loss: 3.3033e-05 - mean_absolute_error: 0.0033\n",
      "Epoch 79/100\n",
      "\u001b[1m225/225\u001b[0m \u001b[32m━━━━━━━━━━━━━━━━━━━━\u001b[0m\u001b[37m\u001b[0m \u001b[1m1s\u001b[0m 5ms/step - loss: 3.7372e-05 - mean_absolute_error: 0.0035\n",
      "Epoch 80/100\n",
      "\u001b[1m225/225\u001b[0m \u001b[32m━━━━━━━━━━━━━━━━━━━━\u001b[0m\u001b[37m\u001b[0m \u001b[1m1s\u001b[0m 5ms/step - loss: 4.0156e-05 - mean_absolute_error: 0.0036\n",
      "Epoch 81/100\n",
      "\u001b[1m225/225\u001b[0m \u001b[32m━━━━━━━━━━━━━━━━━━━━\u001b[0m\u001b[37m\u001b[0m \u001b[1m1s\u001b[0m 4ms/step - loss: 4.4419e-05 - mean_absolute_error: 0.0040\n",
      "Epoch 82/100\n",
      "\u001b[1m225/225\u001b[0m \u001b[32m━━━━━━━━━━━━━━━━━━━━\u001b[0m\u001b[37m\u001b[0m \u001b[1m1s\u001b[0m 4ms/step - loss: 4.2591e-05 - mean_absolute_error: 0.0037\n",
      "Epoch 83/100\n",
      "\u001b[1m225/225\u001b[0m \u001b[32m━━━━━━━━━━━━━━━━━━━━\u001b[0m\u001b[37m\u001b[0m \u001b[1m1s\u001b[0m 4ms/step - loss: 4.1856e-05 - mean_absolute_error: 0.0037\n",
      "Epoch 84/100\n",
      "\u001b[1m225/225\u001b[0m \u001b[32m━━━━━━━━━━━━━━━━━━━━\u001b[0m\u001b[37m\u001b[0m \u001b[1m1s\u001b[0m 5ms/step - loss: 4.2775e-05 - mean_absolute_error: 0.0040\n",
      "Epoch 85/100\n",
      "\u001b[1m225/225\u001b[0m \u001b[32m━━━━━━━━━━━━━━━━━━━━\u001b[0m\u001b[37m\u001b[0m \u001b[1m1s\u001b[0m 5ms/step - loss: 4.1036e-05 - mean_absolute_error: 0.0038\n",
      "Epoch 86/100\n",
      "\u001b[1m225/225\u001b[0m \u001b[32m━━━━━━━━━━━━━━━━━━━━\u001b[0m\u001b[37m\u001b[0m \u001b[1m1s\u001b[0m 5ms/step - loss: 3.4582e-05 - mean_absolute_error: 0.0035\n",
      "Epoch 87/100\n",
      "\u001b[1m225/225\u001b[0m \u001b[32m━━━━━━━━━━━━━━━━━━━━\u001b[0m\u001b[37m\u001b[0m \u001b[1m1s\u001b[0m 4ms/step - loss: 3.9223e-05 - mean_absolute_error: 0.0036\n",
      "Epoch 88/100\n",
      "\u001b[1m225/225\u001b[0m \u001b[32m━━━━━━━━━━━━━━━━━━━━\u001b[0m\u001b[37m\u001b[0m \u001b[1m1s\u001b[0m 5ms/step - loss: 3.2650e-05 - mean_absolute_error: 0.0033\n",
      "Epoch 89/100\n",
      "\u001b[1m225/225\u001b[0m \u001b[32m━━━━━━━━━━━━━━━━━━━━\u001b[0m\u001b[37m\u001b[0m \u001b[1m1s\u001b[0m 4ms/step - loss: 3.6793e-05 - mean_absolute_error: 0.0034\n",
      "Epoch 90/100\n",
      "\u001b[1m225/225\u001b[0m \u001b[32m━━━━━━━━━━━━━━━━━━━━\u001b[0m\u001b[37m\u001b[0m \u001b[1m1s\u001b[0m 4ms/step - loss: 3.9104e-05 - mean_absolute_error: 0.0038\n",
      "Epoch 91/100\n",
      "\u001b[1m225/225\u001b[0m \u001b[32m━━━━━━━━━━━━━━━━━━━━\u001b[0m\u001b[37m\u001b[0m \u001b[1m1s\u001b[0m 4ms/step - loss: 3.7773e-05 - mean_absolute_error: 0.0037\n",
      "Epoch 92/100\n",
      "\u001b[1m225/225\u001b[0m \u001b[32m━━━━━━━━━━━━━━━━━━━━\u001b[0m\u001b[37m\u001b[0m \u001b[1m1s\u001b[0m 4ms/step - loss: 4.7647e-05 - mean_absolute_error: 0.0039\n",
      "Epoch 93/100\n",
      "\u001b[1m225/225\u001b[0m \u001b[32m━━━━━━━━━━━━━━━━━━━━\u001b[0m\u001b[37m\u001b[0m \u001b[1m1s\u001b[0m 4ms/step - loss: 4.1218e-05 - mean_absolute_error: 0.0039\n",
      "Epoch 94/100\n",
      "\u001b[1m225/225\u001b[0m \u001b[32m━━━━━━━━━━━━━━━━━━━━\u001b[0m\u001b[37m\u001b[0m \u001b[1m1s\u001b[0m 4ms/step - loss: 4.0455e-05 - mean_absolute_error: 0.0038\n",
      "Epoch 95/100\n",
      "\u001b[1m225/225\u001b[0m \u001b[32m━━━━━━━━━━━━━━━━━━━━\u001b[0m\u001b[37m\u001b[0m \u001b[1m1s\u001b[0m 4ms/step - loss: 3.9005e-05 - mean_absolute_error: 0.0035\n",
      "Epoch 96/100\n",
      "\u001b[1m225/225\u001b[0m \u001b[32m━━━━━━━━━━━━━━━━━━━━\u001b[0m\u001b[37m\u001b[0m \u001b[1m1s\u001b[0m 4ms/step - loss: 3.8216e-05 - mean_absolute_error: 0.0036\n",
      "Epoch 97/100\n",
      "\u001b[1m225/225\u001b[0m \u001b[32m━━━━━━━━━━━━━━━━━━━━\u001b[0m\u001b[37m\u001b[0m \u001b[1m1s\u001b[0m 4ms/step - loss: 3.6676e-05 - mean_absolute_error: 0.0037\n",
      "Epoch 98/100\n",
      "\u001b[1m225/225\u001b[0m \u001b[32m━━━━━━━━━━━━━━━━━━━━\u001b[0m\u001b[37m\u001b[0m \u001b[1m1s\u001b[0m 4ms/step - loss: 3.3327e-05 - mean_absolute_error: 0.0033\n",
      "Epoch 99/100\n",
      "\u001b[1m225/225\u001b[0m \u001b[32m━━━━━━━━━━━━━━━━━━━━\u001b[0m\u001b[37m\u001b[0m \u001b[1m1s\u001b[0m 4ms/step - loss: 3.3186e-05 - mean_absolute_error: 0.0036\n",
      "Epoch 100/100\n",
      "\u001b[1m225/225\u001b[0m \u001b[32m━━━━━━━━━━━━━━━━━━━━\u001b[0m\u001b[37m\u001b[0m \u001b[1m1s\u001b[0m 4ms/step - loss: 3.8889e-05 - mean_absolute_error: 0.0035\n"
     ]
    },
    {
     "data": {
      "text/plain": [
       "<keras.src.callbacks.history.History at 0x187233f3410>"
      ]
     },
     "execution_count": 231,
     "metadata": {},
     "output_type": "execute_result"
    }
   ],
   "source": [
    "model1.fit(X, y, epochs=100)"
   ]
  },
  {
   "cell_type": "code",
   "execution_count": 232,
   "metadata": {},
   "outputs": [
    {
     "name": "stdout",
     "output_type": "stream",
     "text": [
      "\u001b[1m225/225\u001b[0m \u001b[32m━━━━━━━━━━━━━━━━━━━━\u001b[0m\u001b[37m\u001b[0m \u001b[1m1s\u001b[0m 2ms/step\n"
     ]
    },
    {
     "data": {
      "text/plain": [
       "(7182,)"
      ]
     },
     "execution_count": 232,
     "metadata": {},
     "output_type": "execute_result"
    }
   ],
   "source": [
    "train_predictions1 = model1.predict(X).flatten()\n",
    "train_predictions1.shape"
   ]
  },
  {
   "cell_type": "code",
   "execution_count": 233,
   "metadata": {},
   "outputs": [],
   "source": [
    "x_axis2 = np.arange(len(y))"
   ]
  },
  {
   "cell_type": "code",
   "execution_count": 234,
   "metadata": {},
   "outputs": [
    {
     "data": {
      "text/plain": [
       "<matplotlib.legend.Legend at 0x1871bb22600>"
      ]
     },
     "execution_count": 234,
     "metadata": {},
     "output_type": "execute_result"
    },
    {
     "data": {
      "image/png": "[encoded data removed]",
      "text/plain": [
       "<Figure size 640x480 with 1 Axes>"
      ]
     },
     "metadata": {},
     "output_type": "display_data"
    }
   ],
   "source": [
    "plt.plot(x_axis2, train_predictions1)\n",
    "plt.plot(x_axis2, y)\n",
    "plt.legend(['Training Predictions', 'Training Observations'])"
   ]
  },
  {
   "cell_type": "code",
   "execution_count": 235,
   "metadata": {},
   "outputs": [
    {
     "name": "stderr",
     "output_type": "stream",
     "text": [
      "WARNING:absl:You are saving your model as an HDF5 file via `model.save()` or `keras.saving.save_model(model)`. This file format is considered legacy. We recommend using instead the native Keras format, e.g. `model.save('my_model.keras')` or `keras.saving.save_model(model, 'my_model.keras')`. \n"
     ]
    }
   ],
   "source": [
    "model1.save('lstm_model2.h5')"
   ]
  },
  {
   "cell_type": "code",
   "execution_count": 236,
   "metadata": {},
   "outputs": [],
   "source": [
    "model1.save('lstm_model2.keras')"
   ]
  }
 ],
 "metadata": {
  "kernelspec": {
   "display_name": "Python 3",
   "language": "python",
   "name": "python3"
  },
  "language_info": {
   "codemirror_mode": {
    "name": "ipython",
    "version": 3
   },
   "file_extension": ".py",
   "mimetype": "text/x-python",
   "name": "python",
   "nbconvert_exporter": "python",
   "pygments_lexer": "ipython3",
   "version": "3.12.6"
  }
 },
 "nbformat": 4,
 "nbformat_minor": 2
}
