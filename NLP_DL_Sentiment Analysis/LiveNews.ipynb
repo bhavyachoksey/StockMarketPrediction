{
 "cells": [
  {
   "cell_type": "code",
   "execution_count": 1,
   "metadata": {},
   "outputs": [],
   "source": [
    "from tensorflow.keras.models import load_model"
   ]
  },
  {
   "cell_type": "code",
   "execution_count": 2,
   "metadata": {},
   "outputs": [
    {
     "name": "stderr",
     "output_type": "stream",
     "text": [
      "WARNING:absl:Compiled the loaded model, but the compiled metrics have yet to be built. `model.compile_metrics` will be empty until you train or evaluate the model.\n"
     ]
    }
   ],
   "source": [
    "model = load_model('NeuralNetwork_sentiment_model.h5')"
   ]
  },
  {
   "cell_type": "code",
   "execution_count": 3,
   "metadata": {},
   "outputs": [],
   "source": [
    "import requests\n",
    "from datetime import datetime, timedelta\n",
    "import numpy as np"
   ]
  },
  {
   "cell_type": "code",
   "execution_count": 4,
   "metadata": {},
   "outputs": [],
   "source": [
    "API_KEY = 'ab7ba0cc07f94b00a1237576550365b5'\n",
    "url = 'https://newsapi.org/v2/everything'"
   ]
  },
  {
   "cell_type": "code",
   "execution_count": 32,
   "metadata": {},
   "outputs": [],
   "source": [
    "end_date = datetime.now()\n",
    "start_date = end_date - timedelta(days=2)\n"
   ]
  },
  {
   "cell_type": "code",
   "execution_count": 33,
   "metadata": {},
   "outputs": [],
   "source": [
    "params = {\n",
    "    'q': 'Reliance',  # Your search query\n",
    "    'from': start_date.strftime('%Y-%m-%d'),  # From date\n",
    "    'to': end_date.strftime('%Y-%m-%d'),  # To date\n",
    "    'sortBy': 'publishedAt',\n",
    "    'apiKey': API_KEY,\n",
    "}"
   ]
  },
  {
   "cell_type": "code",
   "execution_count": 34,
   "metadata": {},
   "outputs": [],
   "source": [
    "response = requests.get(url, params=params)\n",
    "articles = response.json().get('articles', [])"
   ]
  },
  {
   "cell_type": "code",
   "execution_count": 35,
   "metadata": {},
   "outputs": [],
   "source": [
    "news_texts = []\n",
    "for article in articles:\n",
    "    news_texts.append(article['title']) # + ' ' + article['description'])"
   ]
  },
  {
   "cell_type": "code",
   "execution_count": 36,
   "metadata": {},
   "outputs": [
    {
     "data": {
      "text/plain": [
       "['Telcos creating a false equivalence with satellite operators on spectrum pricing : Amazon, Starlink',\n",
       " \"Puitn's Nightmare: Russian Soldiers and Civilians are Turning on the Ukraine War\",\n",
       " \"Pete Prisco's Week 9 NFL picks: Lions knock off Packers in NFC North showdown; surging Rams topple Seahawks\",\n",
       " '\"Election\" \"Day\" Minus Two',\n",
       " 'Energy, automotive, banking sectors offer most of internships under PM scheme',\n",
       " 'Ethiopia bans imports of gas-powered private vehicles, but the switch to electric is a bumpy ride',\n",
       " 'I, Coppola',\n",
       " 'The Indispensable Imperative: Institutions Must Do More To Mitigate Cybersecurity Risks',\n",
       " '[Removed]',\n",
       " 'Private Calls and Campaign Cash: Louisiana Regulators’ Ties to the Utilities They Oversee',\n",
       " 'U.S. DOE Set to Award $150 MM for Energy Upgrades at Federal Facilities',\n",
       " 'What Trump has said he would do on Day 1 back in the White House',\n",
       " 'Beware AI Voting Assistants: Impact On Swing States In The 2024 U.S. Election',\n",
       " 'Will politicians never learn? Subsidised trains are for the few, while unsubsidised cars are for the many',\n",
       " 'China stock market: 5 questions ahead of the key NPC session',\n",
       " 'Avalon GloboCare Faces Potential Delisting from Nasdaq Due to Bid Price Non-Compliance',\n",
       " 'What a Second Donald Trump Term Would Look Like, According to ChatGPT, Grok',\n",
       " '\"...Means The World\": Arjun Kapoor Thanks Fans For Loving Singham Again',\n",
       " 'Gopal Vittal at Airtel: A stint of multiple challenges, in charts',\n",
       " 'Mcap of 6 of top-10 most valued firms jump Rs 1 lakh cr; State Bank, ICICI Bank top gainers',\n",
       " 'Nevada lithium mine will crush rare plant habitat US said is critical to its survival, lawsuit says',\n",
       " 'Nevada lithium mine will crush rare plant habitat US said is critical to its survival, lawsuit says',\n",
       " 'Nevada lithium mine will crush rare plant habitat US said is critical to its survival, lawsuit says',\n",
       " 'Ghana wants Mukesh Ambani’s Jio model badly. The huge payoff explained',\n",
       " 'Nevada lithium mine will crush rare plant habitat US said is critical to its survival, lawsuit says',\n",
       " 'Mcap of 6 of top-10 most valued firms jump ₹1 lakh crore; State Bank, ICICI Bank top gainers',\n",
       " 'Nevada lithium mine will crush rare plant habitat US said is critical to its survival, lawsuit says',\n",
       " '[Removed]',\n",
       " 'Ethiopia bans imports of gas-powered private vehicles, but the switch to electric is a bumpy ride',\n",
       " 'Ethiopia bans imports of gas-powered private vehicles, but the switch to electric is a bumpy ride',\n",
       " '2024 선거에 앞서 읽어야 할 것들',\n",
       " 'Ethiopia bans imports of gas-powered private vehicles, but the switch to electric is a bumpy ride',\n",
       " 'Ethiopia bans imports of gas-powered private vehicles, but the switch to electric is a bumpy ride',\n",
       " '[Removed]',\n",
       " 'Perspectives and insights of critical care clinicians, patients and families from culturally and linguistically diverse backgrounds around end-of-life care in an ICU: a scoping review protocol',\n",
       " 'Impact of visualising healthcare quality performance: a systematic review',\n",
       " 'Exploring the barriers to healthcare access among persons with disabilities: a qualitative study in rural Luuka district, Uganda',\n",
       " 'Evaluating the social return on investment of dance movement for wellbeing in the prevention of burnout among healthcare staff: a study protocol',\n",
       " \"Trump Media outsourced jobs to Mexico as Trump pushed 'America First'\",\n",
       " 'Trump Media Outsourced Jobs to Mexico Even as Trump Pushes “America First”',\n",
       " 'Trump Media Outsourced Jobs to Mexico Even as Trump Pushes “America First”',\n",
       " 'Trump Media Outsourced Jobs to Mexico Even as Trump Pushes “America First”',\n",
       " 'Trump Media Outsourced Jobs to Mexico Even as Trump Pushes “America First”',\n",
       " 'Trump Media Outsourced Jobs to Mexico Even as Trump Pushes “America First”',\n",
       " 'After Years of Waiting, Navajo Nation Is Powering Up',\n",
       " 'Biden returns to his hometown after a limited campaign role | CNN Politics',\n",
       " 'Tackling Insomnia Via Generative AI And ChatGPT',\n",
       " \"AI chatbot blamed in teen's death: Here's what to know about AI's psychological risks and prevention\",\n",
       " 'What Crypto Regulations Mean For Providers And Users In Argentina',\n",
       " 'Blockade Labs Launches Blendbox, A New AI Tool For Pro-Level 2D Art Control',\n",
       " 'Hacking the Edges of Knowledge: LLMs, Vulnerabilities, and the Quest for Understanding',\n",
       " \"If there's a hit, can a sequel be far behind?\",\n",
       " \"Here's how DNC pollster Celinda Lake sees the 2024 election shaping up for Tuesday\",\n",
       " 'Florence Institute of Design International spotlights ten graphic design projects',\n",
       " \"Classic Aero-TV: GAMI's G100UL Coming To A Field Near You\",\n",
       " 'The Extremely Profitable Inner Workings of Digital Addiction',\n",
       " 'The Human Toll of ALPR Errors',\n",
       " \"The Amish Don't Vote. Why This Year Could Be Different\",\n",
       " 'The Best Technology For Remote Working: No-Code/Low-Code Tech',\n",
       " 'T-Mobile has gotten worse, but I’m still not switching',\n",
       " 'Swiggy IPO: Should you subscribe?',\n",
       " 'Swiggy IPO analysis: You can take a shot, but maybe not a big swig',\n",
       " 'An In-Depth Look at the NGAD Review Expected to Conclude by the End of 2024',\n",
       " '[Removed]',\n",
       " 'We Can Finally Flush Our Toilets in Asheville. But Getting Drinking Water Is Still an Issue.',\n",
       " 'Bass Pro Shops vs. Patagonia: Choosing a side in the camping store divide',\n",
       " 'અનિલ અંબાણીની કંપનીને સેબીની નોટિસ, ₹4ના મૂલ્યના શેરનું 5 દિવસ માટે ટ્રેડિંગ બંધ',\n",
       " 'Donald Trump가 미국 경제와 자산시장을 \"관세\"로 작살, \"이민법\" 공약으로 박살낼 것',\n",
       " 'F1 2026 rule tweaks\\xa0will open door for \"different concepts\"',\n",
       " 'F1 2026 rule tweaks\\xa0will open door for \"different concepts\"',\n",
       " 'Indonesian Government Bans the Sale of Google Pixel Phones',\n",
       " 'Confirmed: SeaWorld to Change Iconic Attraction After 20 Years',\n",
       " 'Who is new UK Conservative Party leader Kemi Badenoch?',\n",
       " 'Who is new UK Conservative Party leader Kemi Badenoch?',\n",
       " '‘I’m not even sure what made them popular’: Expert reveals 3 features in modern cars that will cause you problems',\n",
       " 'Bitcoin Mining Takes Center Stage At Argentina’s Central Bank: Here’s Why',\n",
       " '[Removed]',\n",
       " 'Nilesh Shah on India’s next big growth plays and why market corrections are just short-lived blips',\n",
       " 'ICC Jurisdiction in Ukraine and Article 124: Does Article 12(3) Leave the Stage Lit on War Crimes?',\n",
       " 'Reliance, Inc. (NYSE:RS) Shares Sold by Wealth Enhancement Advisory Services LLC',\n",
       " 'Soludo’s wife organises farming, healthy living training for Anambra residents',\n",
       " 'Models ditch the heels for 3.6km catwalk in regional WA',\n",
       " '[Removed]',\n",
       " 'Taking a games approach to mental health',\n",
       " 'Planning to spot wealth creators in chemical space? PI Industries, Atul could give over 20% return each',\n",
       " 'Reimagining Palestine after One Year of Genocide',\n",
       " 'How to help your baby adjust their sleep to the ‘fall back’ time change | CNN',\n",
       " '6 Ways to Prepare for the Fallout of Election Day',\n",
       " 'OpenAI’s ChatGPT makes the case for Donald Trump',\n",
       " 'Let’s go back!',\n",
       " 'Automattic and Matt Mullenweg Push for Dismissal of Key Claims in WP Engine Lawsuit',\n",
       " 'India’s journey towards biofuel leadership',\n",
       " 'The Human Toll of ALPR Errors',\n",
       " 'Organic Chemical Market Expected to Reach $26.19 Billion by 2032, Growing CAGR at 7.3% | Introspective Market Research',\n",
       " 'CORRECTION - Bogota Financial Corp. Reports Results for the Three and Nine Months Ended September 30, 2024 Corrected',\n",
       " \"JD Vance Slams Kamala Harris for Bragging About Economy: U.S. 'Lost' 28K 'Private Sector Jobs'\",\n",
       " 'CORRECTION - Bogota Financial Corp. Reports Results for the Three and Nine Months Ended September 30, 2024 Corrected',\n",
       " 'Euro Sun Announces $2.15 Million Private Placement',\n",
       " 'Industry Scandal: The Loss of Nutrients',\n",
       " 'Euro Sun Announces $2.15 Million Private Placement']"
      ]
     },
     "execution_count": 36,
     "metadata": {},
     "output_type": "execute_result"
    }
   ],
   "source": [
    "news_texts"
   ]
  },
  {
   "cell_type": "code",
   "execution_count": 67,
   "metadata": {},
   "outputs": [],
   "source": [
    "filtered_news = [entry for entry in news_texts if \"[Removed]\" not in entry]"
   ]
  },
  {
   "cell_type": "code",
   "execution_count": 68,
   "metadata": {},
   "outputs": [
    {
     "data": {
      "text/plain": [
       "['Telcos creating a false equivalence with satellite operators on spectrum pricing : Amazon, Starlink',\n",
       " \"Puitn's Nightmare: Russian Soldiers and Civilians are Turning on the Ukraine War\",\n",
       " \"Pete Prisco's Week 9 NFL picks: Lions knock off Packers in NFC North showdown; surging Rams topple Seahawks\",\n",
       " '\"Election\" \"Day\" Minus Two',\n",
       " 'Energy, automotive, banking sectors offer most of internships under PM scheme',\n",
       " 'Ethiopia bans imports of gas-powered private vehicles, but the switch to electric is a bumpy ride',\n",
       " 'I, Coppola',\n",
       " 'The Indispensable Imperative: Institutions Must Do More To Mitigate Cybersecurity Risks',\n",
       " 'Private Calls and Campaign Cash: Louisiana Regulators’ Ties to the Utilities They Oversee',\n",
       " 'U.S. DOE Set to Award $150 MM for Energy Upgrades at Federal Facilities',\n",
       " 'What Trump has said he would do on Day 1 back in the White House',\n",
       " 'Beware AI Voting Assistants: Impact On Swing States In The 2024 U.S. Election',\n",
       " 'Will politicians never learn? Subsidised trains are for the few, while unsubsidised cars are for the many',\n",
       " 'China stock market: 5 questions ahead of the key NPC session',\n",
       " 'Avalon GloboCare Faces Potential Delisting from Nasdaq Due to Bid Price Non-Compliance',\n",
       " 'What a Second Donald Trump Term Would Look Like, According to ChatGPT, Grok',\n",
       " '\"...Means The World\": Arjun Kapoor Thanks Fans For Loving Singham Again',\n",
       " 'Gopal Vittal at Airtel: A stint of multiple challenges, in charts',\n",
       " 'Mcap of 6 of top-10 most valued firms jump Rs 1 lakh cr; State Bank, ICICI Bank top gainers',\n",
       " 'Nevada lithium mine will crush rare plant habitat US said is critical to its survival, lawsuit says',\n",
       " 'Nevada lithium mine will crush rare plant habitat US said is critical to its survival, lawsuit says',\n",
       " 'Nevada lithium mine will crush rare plant habitat US said is critical to its survival, lawsuit says',\n",
       " 'Ghana wants Mukesh Ambani’s Jio model badly. The huge payoff explained',\n",
       " 'Nevada lithium mine will crush rare plant habitat US said is critical to its survival, lawsuit says',\n",
       " 'Mcap of 6 of top-10 most valued firms jump ₹1 lakh crore; State Bank, ICICI Bank top gainers',\n",
       " 'Nevada lithium mine will crush rare plant habitat US said is critical to its survival, lawsuit says',\n",
       " 'Ethiopia bans imports of gas-powered private vehicles, but the switch to electric is a bumpy ride',\n",
       " 'Ethiopia bans imports of gas-powered private vehicles, but the switch to electric is a bumpy ride',\n",
       " '2024 선거에 앞서 읽어야 할 것들',\n",
       " 'Ethiopia bans imports of gas-powered private vehicles, but the switch to electric is a bumpy ride',\n",
       " 'Ethiopia bans imports of gas-powered private vehicles, but the switch to electric is a bumpy ride',\n",
       " 'Perspectives and insights of critical care clinicians, patients and families from culturally and linguistically diverse backgrounds around end-of-life care in an ICU: a scoping review protocol',\n",
       " 'Impact of visualising healthcare quality performance: a systematic review',\n",
       " 'Exploring the barriers to healthcare access among persons with disabilities: a qualitative study in rural Luuka district, Uganda',\n",
       " 'Evaluating the social return on investment of dance movement for wellbeing in the prevention of burnout among healthcare staff: a study protocol',\n",
       " \"Trump Media outsourced jobs to Mexico as Trump pushed 'America First'\",\n",
       " 'Trump Media Outsourced Jobs to Mexico Even as Trump Pushes “America First”',\n",
       " 'Trump Media Outsourced Jobs to Mexico Even as Trump Pushes “America First”',\n",
       " 'Trump Media Outsourced Jobs to Mexico Even as Trump Pushes “America First”',\n",
       " 'Trump Media Outsourced Jobs to Mexico Even as Trump Pushes “America First”',\n",
       " 'Trump Media Outsourced Jobs to Mexico Even as Trump Pushes “America First”',\n",
       " 'After Years of Waiting, Navajo Nation Is Powering Up',\n",
       " 'Biden returns to his hometown after a limited campaign role | CNN Politics',\n",
       " 'Tackling Insomnia Via Generative AI And ChatGPT',\n",
       " \"AI chatbot blamed in teen's death: Here's what to know about AI's psychological risks and prevention\",\n",
       " 'What Crypto Regulations Mean For Providers And Users In Argentina',\n",
       " 'Blockade Labs Launches Blendbox, A New AI Tool For Pro-Level 2D Art Control',\n",
       " 'Hacking the Edges of Knowledge: LLMs, Vulnerabilities, and the Quest for Understanding',\n",
       " \"If there's a hit, can a sequel be far behind?\",\n",
       " \"Here's how DNC pollster Celinda Lake sees the 2024 election shaping up for Tuesday\",\n",
       " 'Florence Institute of Design International spotlights ten graphic design projects',\n",
       " \"Classic Aero-TV: GAMI's G100UL Coming To A Field Near You\",\n",
       " 'The Extremely Profitable Inner Workings of Digital Addiction',\n",
       " 'The Human Toll of ALPR Errors',\n",
       " \"The Amish Don't Vote. Why This Year Could Be Different\",\n",
       " 'The Best Technology For Remote Working: No-Code/Low-Code Tech',\n",
       " 'T-Mobile has gotten worse, but I’m still not switching',\n",
       " 'Swiggy IPO: Should you subscribe?',\n",
       " 'Swiggy IPO analysis: You can take a shot, but maybe not a big swig',\n",
       " 'An In-Depth Look at the NGAD Review Expected to Conclude by the End of 2024',\n",
       " 'We Can Finally Flush Our Toilets in Asheville. But Getting Drinking Water Is Still an Issue.',\n",
       " 'Bass Pro Shops vs. Patagonia: Choosing a side in the camping store divide',\n",
       " 'અનિલ અંબાણીની કંપનીને સેબીની નોટિસ, ₹4ના મૂલ્યના શેરનું 5 દિવસ માટે ટ્રેડિંગ બંધ',\n",
       " 'Donald Trump가 미국 경제와 자산시장을 \"관세\"로 작살, \"이민법\" 공약으로 박살낼 것',\n",
       " 'F1 2026 rule tweaks\\xa0will open door for \"different concepts\"',\n",
       " 'F1 2026 rule tweaks\\xa0will open door for \"different concepts\"',\n",
       " 'Indonesian Government Bans the Sale of Google Pixel Phones',\n",
       " 'Confirmed: SeaWorld to Change Iconic Attraction After 20 Years',\n",
       " 'Who is new UK Conservative Party leader Kemi Badenoch?',\n",
       " 'Who is new UK Conservative Party leader Kemi Badenoch?',\n",
       " '‘I’m not even sure what made them popular’: Expert reveals 3 features in modern cars that will cause you problems',\n",
       " 'Bitcoin Mining Takes Center Stage At Argentina’s Central Bank: Here’s Why',\n",
       " 'Nilesh Shah on India’s next big growth plays and why market corrections are just short-lived blips',\n",
       " 'ICC Jurisdiction in Ukraine and Article 124: Does Article 12(3) Leave the Stage Lit on War Crimes?',\n",
       " 'Reliance, Inc. (NYSE:RS) Shares Sold by Wealth Enhancement Advisory Services LLC',\n",
       " 'Soludo’s wife organises farming, healthy living training for Anambra residents',\n",
       " 'Models ditch the heels for 3.6km catwalk in regional WA',\n",
       " 'Taking a games approach to mental health',\n",
       " 'Planning to spot wealth creators in chemical space? PI Industries, Atul could give over 20% return each',\n",
       " 'Reimagining Palestine after One Year of Genocide',\n",
       " 'How to help your baby adjust their sleep to the ‘fall back’ time change | CNN',\n",
       " '6 Ways to Prepare for the Fallout of Election Day',\n",
       " 'OpenAI’s ChatGPT makes the case for Donald Trump',\n",
       " 'Let’s go back!',\n",
       " 'Automattic and Matt Mullenweg Push for Dismissal of Key Claims in WP Engine Lawsuit',\n",
       " 'India’s journey towards biofuel leadership',\n",
       " 'The Human Toll of ALPR Errors',\n",
       " 'Organic Chemical Market Expected to Reach $26.19 Billion by 2032, Growing CAGR at 7.3% | Introspective Market Research',\n",
       " 'CORRECTION - Bogota Financial Corp. Reports Results for the Three and Nine Months Ended September 30, 2024 Corrected',\n",
       " \"JD Vance Slams Kamala Harris for Bragging About Economy: U.S. 'Lost' 28K 'Private Sector Jobs'\",\n",
       " 'CORRECTION - Bogota Financial Corp. Reports Results for the Three and Nine Months Ended September 30, 2024 Corrected',\n",
       " 'Euro Sun Announces $2.15 Million Private Placement',\n",
       " 'Industry Scandal: The Loss of Nutrients',\n",
       " 'Euro Sun Announces $2.15 Million Private Placement']"
      ]
     },
     "execution_count": 68,
     "metadata": {},
     "output_type": "execute_result"
    }
   ],
   "source": [
    "filtered_news"
   ]
  },
  {
   "cell_type": "code",
   "execution_count": 69,
   "metadata": {},
   "outputs": [],
   "source": [
    "filtered_news = [title for title in filtered_news if 'reliance' in title.lower()]\n"
   ]
  },
  {
   "cell_type": "code",
   "execution_count": 70,
   "metadata": {},
   "outputs": [
    {
     "data": {
      "text/plain": [
       "['Reliance, Inc. (NYSE:RS) Shares Sold by Wealth Enhancement Advisory Services LLC']"
      ]
     },
     "execution_count": 70,
     "metadata": {},
     "output_type": "execute_result"
    }
   ],
   "source": [
    "filtered_news"
   ]
  },
  {
   "cell_type": "code",
   "execution_count": 71,
   "metadata": {},
   "outputs": [],
   "source": [
    "final_news=filtered_news"
   ]
  },
  {
   "cell_type": "code",
   "execution_count": 41,
   "metadata": {},
   "outputs": [],
   "source": [
    "def normalize_text(text):\n",
    "    # Convert to lowercase\n",
    "    text = text.lower()\n",
    "    # Remove punctuation and numbers\n",
    "    text = ''.join(char for char in text if char.isalpha() or char.isspace())\n",
    "    return text"
   ]
  },
  {
   "cell_type": "code",
   "execution_count": 42,
   "metadata": {},
   "outputs": [],
   "source": [
    "filtered_news = [normalize_text(news) for news in filtered_news]"
   ]
  },
  {
   "cell_type": "code",
   "execution_count": 43,
   "metadata": {},
   "outputs": [
    {
     "data": {
      "text/plain": [
       "['reliance inc nysers shares sold by wealth enhancement advisory services llc']"
      ]
     },
     "execution_count": 43,
     "metadata": {},
     "output_type": "execute_result"
    }
   ],
   "source": [
    "filtered_news"
   ]
  },
  {
   "cell_type": "code",
   "execution_count": 44,
   "metadata": {},
   "outputs": [],
   "source": [
    "from nltk.corpus import stopwords"
   ]
  },
  {
   "cell_type": "code",
   "execution_count": 45,
   "metadata": {},
   "outputs": [],
   "source": [
    "stop_words = set(stopwords.words('english'))"
   ]
  },
  {
   "cell_type": "code",
   "execution_count": 46,
   "metadata": {},
   "outputs": [],
   "source": [
    "filtered_news = [[word for word in news.split() if word not in stop_words] for news in filtered_news]"
   ]
  },
  {
   "cell_type": "code",
   "execution_count": 47,
   "metadata": {},
   "outputs": [],
   "source": [
    "from nltk.stem import PorterStemmer"
   ]
  },
  {
   "cell_type": "code",
   "execution_count": 48,
   "metadata": {},
   "outputs": [],
   "source": [
    "stemmer = PorterStemmer()"
   ]
  },
  {
   "cell_type": "code",
   "execution_count": 49,
   "metadata": {},
   "outputs": [],
   "source": [
    "filtered_news = [[stemmer.stem(word) for word in news] for news in filtered_news]\n"
   ]
  },
  {
   "cell_type": "code",
   "execution_count": 50,
   "metadata": {},
   "outputs": [],
   "source": [
    "filtered_news = [' '.join(news) for news in filtered_news]"
   ]
  },
  {
   "cell_type": "code",
   "execution_count": 51,
   "metadata": {},
   "outputs": [
    {
     "data": {
      "text/plain": [
       "['relianc inc nyser share sold wealth enhanc advisori servic llc']"
      ]
     },
     "execution_count": 51,
     "metadata": {},
     "output_type": "execute_result"
    }
   ],
   "source": [
    "filtered_news"
   ]
  },
  {
   "cell_type": "code",
   "execution_count": 25,
   "metadata": {},
   "outputs": [],
   "source": [
    "# from sklearn.feature_extraction.text import TfidfVectorizer"
   ]
  },
  {
   "cell_type": "code",
   "execution_count": 26,
   "metadata": {},
   "outputs": [],
   "source": [
    "# tfidf_vectorizer1 = TfidfVectorizer() "
   ]
  },
  {
   "cell_type": "code",
   "execution_count": 27,
   "metadata": {},
   "outputs": [],
   "source": [
    "# text_tfidf=tfidf_vectorizer1.fit_transform(filtered_news).toarray()"
   ]
  },
  {
   "cell_type": "code",
   "execution_count": 28,
   "metadata": {},
   "outputs": [],
   "source": [
    "# text_tfidf"
   ]
  },
  {
   "cell_type": "code",
   "execution_count": 52,
   "metadata": {},
   "outputs": [],
   "source": [
    "import joblib"
   ]
  },
  {
   "cell_type": "code",
   "execution_count": 53,
   "metadata": {},
   "outputs": [],
   "source": [
    "tfidf_vectorizer = joblib.load('tfidf_vectorizer_NeuralNetwork1.pkl')"
   ]
  },
  {
   "cell_type": "code",
   "execution_count": 54,
   "metadata": {},
   "outputs": [],
   "source": [
    "X_new_tfidf = tfidf_vectorizer.transform(filtered_news)"
   ]
  },
  {
   "cell_type": "code",
   "execution_count": 55,
   "metadata": {},
   "outputs": [
    {
     "data": {
      "text/plain": [
       "<Compressed Sparse Row sparse matrix of dtype 'float64'\n",
       "\twith 8 stored elements and shape (1, 10419)>"
      ]
     },
     "execution_count": 55,
     "metadata": {},
     "output_type": "execute_result"
    }
   ],
   "source": [
    "X_new_tfidf"
   ]
  },
  {
   "cell_type": "code",
   "execution_count": 56,
   "metadata": {},
   "outputs": [
    {
     "data": {
      "text/plain": [
       "(1, 10419)"
      ]
     },
     "execution_count": 56,
     "metadata": {},
     "output_type": "execute_result"
    }
   ],
   "source": [
    "X_new_tfidf.shape"
   ]
  },
  {
   "cell_type": "code",
   "execution_count": 57,
   "metadata": {},
   "outputs": [
    {
     "name": "stdout",
     "output_type": "stream",
     "text": [
      "\u001b[1m1/1\u001b[0m \u001b[32m━━━━━━━━━━━━━━━━━━━━\u001b[0m\u001b[37m\u001b[0m \u001b[1m0s\u001b[0m 81ms/step\n"
     ]
    }
   ],
   "source": [
    "predictions = model.predict(X_new_tfidf)"
   ]
  },
  {
   "cell_type": "code",
   "execution_count": 58,
   "metadata": {},
   "outputs": [],
   "source": [
    "label_encoder = joblib.load('label_encoder_NeuralNetwork.pkl')"
   ]
  },
  {
   "cell_type": "code",
   "execution_count": 59,
   "metadata": {},
   "outputs": [],
   "source": [
    "predicted_classes = np.argmax(predictions, axis=1)\n",
    "predicted_labels = label_encoder.inverse_transform(predicted_classes)"
   ]
  },
  {
   "cell_type": "code",
   "execution_count": null,
   "metadata": {},
   "outputs": [],
   "source": [
    "confidence_score = np.max(predictions, axis=1)  # max probability as confidence"
   ]
  },
  {
   "cell_type": "code",
   "execution_count": 73,
   "metadata": {},
   "outputs": [
    {
     "name": "stdout",
     "output_type": "stream",
     "text": [
      "News Title: \"Reliance, Inc. (NYSE:RS) Shares Sold by Wealth Enhancement Advisory Services LLC\" - Predicted Sentiment: negative (Confidence: 0.99)\n"
     ]
    }
   ],
   "source": [
    "for text, pred, score in zip(final_news, predicted_labels, confidence_score):\n",
    "    print(f'News Title: \"{text}\" - Predicted Sentiment: {pred} (Confidence: {score:.2f})')"
   ]
  }
 ],
 "metadata": {
  "kernelspec": {
   "display_name": "Python 3",
   "language": "python",
   "name": "python3"
  },
  "language_info": {
   "codemirror_mode": {
    "name": "ipython",
    "version": 3
   },
   "file_extension": ".py",
   "mimetype": "text/x-python",
   "name": "python",
   "nbconvert_exporter": "python",
   "pygments_lexer": "ipython3",
   "version": "3.12.6"
  }
 },
 "nbformat": 4,
 "nbformat_minor": 2
}
